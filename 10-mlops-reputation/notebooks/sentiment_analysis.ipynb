{
 "cells": [
  {
   "cell_type": "code",
   "execution_count": null,
   "id": "5c3c502f",
   "metadata": {
    "id": "5c3c502f"
   },
   "outputs": [],
   "source": [
    "import pandas as pd\n",
    "import numpy as np\n",
    "import kagglehub\n",
    "import re\n",
    "import seaborn as sns\n",
    "import matplotlib.pyplot as plt\n",
    "import emoji\n",
    "\n",
    "from kagglehub import KaggleDatasetAdapter\n",
    "\n",
    "from transformers import pipeline\n",
    "from datasets import load_dataset\n",
    "from sklearn.metrics import classification_report, confusion_matrix\n",
    "from tqdm import tqdm"
   ]
  },
  {
   "cell_type": "code",
   "execution_count": null,
   "id": "7e3702cb",
   "metadata": {
    "colab": {
     "base_uri": "https://localhost:8080/"
    },
    "id": "7e3702cb",
    "outputId": "44e0e3f6-b1b4-41f4-dc6d-6ae46491e5b9"
   },
   "outputs": [
    {
     "name": "stderr",
     "output_type": "stream",
     "text": [
      "/tmp/ipython-input-3132676398.py:4: DeprecationWarning: Use dataset_load() instead of load_dataset(). load_dataset() will be removed in a future version.\n",
      "  df = kagglehub.load_dataset(\n"
     ]
    },
    {
     "name": "stdout",
     "output_type": "stream",
     "text": [
      "Using Colab cache for faster access to the 'tweeteval-a-multi-task-classification-benchmark' dataset.\n",
      "First 5 records:                                                 text  label\n",
      "0  @user @user what do these '1/2 naked pics' hav...      1\n",
      "1  OH: “I had a blue penis while I was this” [pla...      1\n",
      "2  @user @user That's coming, but I think the vic...      1\n",
      "3  I think I may be finally in with the in crowd ...      2\n",
      "4  @user Wow,first Hugo Chavez and now Fidel Cast...      0\n"
     ]
    }
   ],
   "source": [
    "file_path = \"sentiment_test.csv\"\n",
    "\n",
    "# Load the latest version\n",
    "df = kagglehub.load_dataset(\n",
    "  KaggleDatasetAdapter.PANDAS,\n",
    "  \"thedevastator/tweeteval-a-multi-task-classification-benchmark\",\n",
    "  file_path,\n",
    ")\n",
    "\n",
    "print(\"First 5 records:\", df.head())"
   ]
  },
  {
   "cell_type": "code",
   "execution_count": null,
   "id": "08c48604",
   "metadata": {
    "colab": {
     "base_uri": "https://localhost:8080/"
    },
    "id": "08c48604",
    "outputId": "18e4aaeb-e56d-4247-9c66-1fafd0c91188"
   },
   "outputs": [
    {
     "name": "stdout",
     "output_type": "stream",
     "text": [
      "<class 'pandas.core.frame.DataFrame'>\n",
      "RangeIndex: 12284 entries, 0 to 12283\n",
      "Data columns (total 2 columns):\n",
      " #   Column  Non-Null Count  Dtype \n",
      "---  ------  --------------  ----- \n",
      " 0   text    12284 non-null  object\n",
      " 1   label   12284 non-null  int64 \n",
      "dtypes: int64(1), object(1)\n",
      "memory usage: 192.1+ KB\n"
     ]
    }
   ],
   "source": [
    "df.info()"
   ]
  },
  {
   "cell_type": "code",
   "execution_count": null,
   "id": "qL0Ily66hsBW",
   "metadata": {
    "id": "qL0Ily66hsBW"
   },
   "outputs": [],
   "source": [
    "\n",
    "def remove_emoji(text):\n",
    "    return emoji.get_emoji_regexp().sub(u'', text)\n"
   ]
  },
  {
   "cell_type": "code",
   "execution_count": null,
   "id": "84d87ca0",
   "metadata": {
    "id": "84d87ca0"
   },
   "outputs": [],
   "source": [
    "def text_preprocessing(sentiment_df):\n",
    "    # Create a new column for the processed text\n",
    "    sentiment_df['processed_text'] = ''\n",
    "\n",
    "    for index, row in sentiment_df.iterrows():\n",
    "        text = row['text']\n",
    "        if not isinstance(text, str):\n",
    "            # If not a string, replace with empty string or default value\n",
    "            print(text)\n",
    "            text = ''\n",
    "        else:\n",
    "            text = text.lower()\n",
    "\n",
    "        # Remove emoji\n",
    "        text = remove_emoji(text)\n",
    "        # Remove links\n",
    "        text = re.sub(r'((www\\.[^\\s]+)|(https?://[^\\s]+))', '', text)\n",
    "        # Remove usernames\n",
    "        text = re.sub(r'@[^\\s]+', '', text)\n",
    "        # Replace hashtags with just the word\n",
    "        text = re.sub(r'#([^\\s]+)', r'\\1', text)\n",
    "        # Fix multiple white spaces to a single space\n",
    "        text = re.sub(r'[\\s]+', ' ', text)\n",
    "        # Remove words shorter than 4 characters and strip spaces\n",
    "        text = re.sub(r'\\W*\\b\\w{1,3}\\b', '', text)\n",
    "        text = text.strip()\n",
    "\n",
    "        # Save the cleaned text in the DataFrame\n",
    "        sentiment_df.at[index, 'processed_text'] = text\n"
   ]
  },
  {
   "cell_type": "code",
   "execution_count": null,
   "id": "7a173791",
   "metadata": {
    "id": "7a173791"
   },
   "outputs": [],
   "source": [
    "# Df cleaning\n",
    "text_preprocessing(df)"
   ]
  },
  {
   "cell_type": "code",
   "execution_count": null,
   "id": "fd2e6434",
   "metadata": {
    "colab": {
     "base_uri": "https://localhost:8080/",
     "height": 1000
    },
    "id": "fd2e6434",
    "outputId": "ee2473b7-30a4-429a-842a-415a10b46940"
   },
   "outputs": [
    {
     "data": {
      "text/html": [
       "\n",
       "  <div id=\"df-b82f44c6-14dc-4314-b6a9-42c94b9a9a6e\" class=\"colab-df-container\">\n",
       "    <div>\n",
       "<style scoped>\n",
       "    .dataframe tbody tr th:only-of-type {\n",
       "        vertical-align: middle;\n",
       "    }\n",
       "\n",
       "    .dataframe tbody tr th {\n",
       "        vertical-align: top;\n",
       "    }\n",
       "\n",
       "    .dataframe thead th {\n",
       "        text-align: right;\n",
       "    }\n",
       "</style>\n",
       "<table border=\"1\" class=\"dataframe\">\n",
       "  <thead>\n",
       "    <tr style=\"text-align: right;\">\n",
       "      <th></th>\n",
       "      <th>text</th>\n",
       "      <th>label</th>\n",
       "      <th>processed_text</th>\n",
       "    </tr>\n",
       "  </thead>\n",
       "  <tbody>\n",
       "    <tr>\n",
       "      <th>0</th>\n",
       "      <td>@user @user what do these '1/2 naked pics' hav...</td>\n",
       "      <td>1</td>\n",
       "      <td>what these naked pics' have with anything? the...</td>\n",
       "    </tr>\n",
       "    <tr>\n",
       "      <th>1</th>\n",
       "      <td>OH: “I had a blue penis while I was this” [pla...</td>\n",
       "      <td>1</td>\n",
       "      <td>blue penis while this” [playing with google ea...</td>\n",
       "    </tr>\n",
       "    <tr>\n",
       "      <th>2</th>\n",
       "      <td>@user @user That's coming, but I think the vic...</td>\n",
       "      <td>1</td>\n",
       "      <td>that coming think victims going medicaid recip...</td>\n",
       "    </tr>\n",
       "    <tr>\n",
       "      <th>3</th>\n",
       "      <td>I think I may be finally in with the in crowd ...</td>\n",
       "      <td>2</td>\n",
       "      <td>think finally with crowd mannequinchallenge gr...</td>\n",
       "    </tr>\n",
       "    <tr>\n",
       "      <th>4</th>\n",
       "      <td>@user Wow,first Hugo Chavez and now Fidel Cast...</td>\n",
       "      <td>0</td>\n",
       "      <td>,first hugo chavez fidel castro. danny glover,...</td>\n",
       "    </tr>\n",
       "    <tr>\n",
       "      <th>5</th>\n",
       "      <td>Savchenko now Saakashvili took drug test live ...</td>\n",
       "      <td>1</td>\n",
       "      <td>savchenko saakashvili took drug test live ukra...</td>\n",
       "    </tr>\n",
       "    <tr>\n",
       "      <th>6</th>\n",
       "      <td>How many more days until opening day? 😩</td>\n",
       "      <td>1</td>\n",
       "      <td>many more days until opening?</td>\n",
       "    </tr>\n",
       "    <tr>\n",
       "      <th>7</th>\n",
       "      <td>Twitter's #ThankYouObama Shows Heartfelt Grati...</td>\n",
       "      <td>2</td>\n",
       "      <td>twitter thankyouobama shows heartfelt gratitud...</td>\n",
       "    </tr>\n",
       "    <tr>\n",
       "      <th>8</th>\n",
       "      <td>All CSG and Fracking all around Australia is t...</td>\n",
       "      <td>1</td>\n",
       "      <td>fracking around australia cease mining entitie...</td>\n",
       "    </tr>\n",
       "    <tr>\n",
       "      <th>9</th>\n",
       "      <td>@user @user @user @user @user @user take away ...</td>\n",
       "      <td>0</td>\n",
       "      <td>take away illegals dead people trump wins popu...</td>\n",
       "    </tr>\n",
       "    <tr>\n",
       "      <th>10</th>\n",
       "      <td>An interesting security vulnerability - albeit...</td>\n",
       "      <td>1</td>\n",
       "      <td>interesting security vulnerability - albeit ev...</td>\n",
       "    </tr>\n",
       "    <tr>\n",
       "      <th>11</th>\n",
       "      <td>#GilmoreGirlsTop4 1. Spoke2. Paris3. Emily4. P...</td>\n",
       "      <td>1</td>\n",
       "      <td>gilmoregirlstop4. spoke2. paris3. emily4. patt...</td>\n",
       "    </tr>\n",
       "    <tr>\n",
       "      <th>12</th>\n",
       "      <td>#onedirection #harrystyles cute little dance 😉</td>\n",
       "      <td>2</td>\n",
       "      <td>onedirection harrystyles cute little dance</td>\n",
       "    </tr>\n",
       "    <tr>\n",
       "      <th>13</th>\n",
       "      <td>When Ryan privatizes SS, Medicare, Medicaid, &amp;...</td>\n",
       "      <td>0</td>\n",
       "      <td>when ryan privatizes, medicare, medicaid, &amp; do...</td>\n",
       "    </tr>\n",
       "    <tr>\n",
       "      <th>14</th>\n",
       "      <td>Swampbitch Nasty Pelosi  loves yelling 'Fire' ...</td>\n",
       "      <td>0</td>\n",
       "      <td>swampbitch nasty pelosi loves yelling 'fire cr...</td>\n",
       "    </tr>\n",
       "    <tr>\n",
       "      <th>15</th>\n",
       "      <td>@user ohhh ok i see 🤔 what if u have medical m...</td>\n",
       "      <td>1</td>\n",
       "      <td>ohhh what have medical marijuana clearance? do...</td>\n",
       "    </tr>\n",
       "    <tr>\n",
       "      <th>16</th>\n",
       "      <td>OPINION: The Anti-#Trump #Riots Are a #SmokeSc...</td>\n",
       "      <td>1</td>\n",
       "      <td>opinion anti-trump riots smokescreen:</td>\n",
       "    </tr>\n",
       "    <tr>\n",
       "      <th>17</th>\n",
       "      <td>ISIS and The CIA What You Need To Know! #ISIS ...</td>\n",
       "      <td>1</td>\n",
       "      <td>isis what need know! isis falseflag saudi moss...</td>\n",
       "    </tr>\n",
       "    <tr>\n",
       "      <th>18</th>\n",
       "      <td>@user alt-right was adopted by Deplorables. Av...</td>\n",
       "      <td>1</td>\n",
       "      <td>-right adopted deplorables. average middle ame...</td>\n",
       "    </tr>\n",
       "    <tr>\n",
       "      <th>19</th>\n",
       "      <td>@user #GilmoreGirlsTop4 Lorelai, Rory, Lane, S...</td>\n",
       "      <td>1</td>\n",
       "      <td>gilmoregirlstop4 lorelai, rory, lane, sookie</td>\n",
       "    </tr>\n",
       "    <tr>\n",
       "      <th>20</th>\n",
       "      <td>Christians In Palestine: Yes, They Exist #gaza...</td>\n",
       "      <td>1</td>\n",
       "      <td>christians palestine, they exist gaza palestin...</td>\n",
       "    </tr>\n",
       "    <tr>\n",
       "      <th>21</th>\n",
       "      <td>@user Going to see #FantasticBeasts this after...</td>\n",
       "      <td>2</td>\n",
       "      <td>going fantasticbeasts this afternoon potter fa...</td>\n",
       "    </tr>\n",
       "    <tr>\n",
       "      <th>22</th>\n",
       "      <td>Listen to win passes to see #FantasticBeasts a...</td>\n",
       "      <td>1</td>\n",
       "      <td>listen passes fantasticbeasts after/</td>\n",
       "    </tr>\n",
       "    <tr>\n",
       "      <th>23</th>\n",
       "      <td>The United Nations Headquarters in New York #u...</td>\n",
       "      <td>1</td>\n",
       "      <td>united nations headquarters york unitednations...</td>\n",
       "    </tr>\n",
       "    <tr>\n",
       "      <th>24</th>\n",
       "      <td>Zac Efron Flaunts Fit Abs in New ‘Dirty Grandp...</td>\n",
       "      <td>1</td>\n",
       "      <td>efron flaunts ‘dirty grandpa’... zacefron</td>\n",
       "    </tr>\n",
       "    <tr>\n",
       "      <th>25</th>\n",
       "      <td>1am and I'm still watching #ThisIsUs</td>\n",
       "      <td>1</td>\n",
       "      <td>still watching thisisus</td>\n",
       "    </tr>\n",
       "    <tr>\n",
       "      <th>26</th>\n",
       "      <td>The left has really gone Full retard haven't t...</td>\n",
       "      <td>0</td>\n",
       "      <td>left really gone full retard haven they?</td>\n",
       "    </tr>\n",
       "    <tr>\n",
       "      <th>27</th>\n",
       "      <td>#Israel fire updates: Major blaze breaks out n...</td>\n",
       "      <td>1</td>\n",
       "      <td>israel fire updates: major blaze breaks near j...</td>\n",
       "    </tr>\n",
       "    <tr>\n",
       "      <th>28</th>\n",
       "      <td>RT @user Can I politely suggest that we all st...</td>\n",
       "      <td>1</td>\n",
       "      <td>politely suggest that stop using term-right ot...</td>\n",
       "    </tr>\n",
       "    <tr>\n",
       "      <th>29</th>\n",
       "      <td>Day 5 Advent Gift Countdown - 'Gold Standard' ...</td>\n",
       "      <td>1</td>\n",
       "      <td>advent gift countdown - 'gold standard' 20more...</td>\n",
       "    </tr>\n",
       "    <tr>\n",
       "      <th>30</th>\n",
       "      <td>When Jesse Jackson Cozied Up to Fidel Castro</td>\n",
       "      <td>1</td>\n",
       "      <td>when jesse jackson cozied fidel castro</td>\n",
       "    </tr>\n",
       "    <tr>\n",
       "      <th>31</th>\n",
       "      <td>Ben Carson awoke this morning to find out that...</td>\n",
       "      <td>1</td>\n",
       "      <td>carson awoke this morning find that yellow thing</td>\n",
       "    </tr>\n",
       "    <tr>\n",
       "      <th>32</th>\n",
       "      <td>Bike parking still free.</td>\n",
       "      <td>1</td>\n",
       "      <td>bike parking still free.</td>\n",
       "    </tr>\n",
       "    <tr>\n",
       "      <th>33</th>\n",
       "      <td>Can't wait to try this - Google Earth VR - thi...</td>\n",
       "      <td>2</td>\n",
       "      <td>wait this - google earth - this stuff really f...</td>\n",
       "    </tr>\n",
       "    <tr>\n",
       "      <th>34</th>\n",
       "      <td>@user @user Trump is likely supporting Putin t...</td>\n",
       "      <td>1</td>\n",
       "      <td>trump likely supporting putin talking unsecure...</td>\n",
       "    </tr>\n",
       "    <tr>\n",
       "      <th>35</th>\n",
       "      <td>The fact that mike pence thinks there's a \"cur...</td>\n",
       "      <td>0</td>\n",
       "      <td>fact that mike pence thinks there \"cure being ...</td>\n",
       "    </tr>\n",
       "    <tr>\n",
       "      <th>36</th>\n",
       "      <td>@user @user @user .....Good Old Graham Westley!!</td>\n",
       "      <td>2</td>\n",
       "      <td>.....good graham westley!!</td>\n",
       "    </tr>\n",
       "    <tr>\n",
       "      <th>37</th>\n",
       "      <td>Photos: A Thanksgiving protest against Dakota ...</td>\n",
       "      <td>1</td>\n",
       "      <td>photos thanksgiving protest against dakota acc...</td>\n",
       "    </tr>\n",
       "    <tr>\n",
       "      <th>38</th>\n",
       "      <td>@user @user @user @user Clinton foundation rem...</td>\n",
       "      <td>0</td>\n",
       "      <td>clinton foundation reminds maharashtra antuley...</td>\n",
       "    </tr>\n",
       "    <tr>\n",
       "      <th>39</th>\n",
       "      <td>Survey shows Poroshenko has lost considerable ...</td>\n",
       "      <td>1</td>\n",
       "      <td>survey shows poroshenko lost considerable elec...</td>\n",
       "    </tr>\n",
       "    <tr>\n",
       "      <th>40</th>\n",
       "      <td>When Trump jeopardizes their social security a...</td>\n",
       "      <td>0</td>\n",
       "      <td>when trump jeopardizes their social security m...</td>\n",
       "    </tr>\n",
       "    <tr>\n",
       "      <th>41</th>\n",
       "      <td>At Any Price review – generations clash in the...</td>\n",
       "      <td>1</td>\n",
       "      <td>price review – generations clash american midw...</td>\n",
       "    </tr>\n",
       "    <tr>\n",
       "      <th>42</th>\n",
       "      <td>Next?#draintheswamp #TimeForChange#TrumpTransi...</td>\n",
       "      <td>1</td>\n",
       "      <td>next?draintheswamp timeforchange#trumptransiti...</td>\n",
       "    </tr>\n",
       "    <tr>\n",
       "      <th>43</th>\n",
       "      <td>Wow - the world as we know it is slowly turnin...</td>\n",
       "      <td>2</td>\n",
       "      <td>world know slowly turning upside down: microso...</td>\n",
       "    </tr>\n",
       "    <tr>\n",
       "      <th>44</th>\n",
       "      <td>So that Westworld show, it isn't too bad. I gu...</td>\n",
       "      <td>1</td>\n",
       "      <td>that westworld show guess like that sort thing.</td>\n",
       "    </tr>\n",
       "    <tr>\n",
       "      <th>45</th>\n",
       "      <td>Grayson Allen just gave dude such a sick move</td>\n",
       "      <td>0</td>\n",
       "      <td>grayson allen just gave dude such sick move</td>\n",
       "    </tr>\n",
       "    <tr>\n",
       "      <th>46</th>\n",
       "      <td>Download UBER app, Register with this promo co...</td>\n",
       "      <td>1</td>\n",
       "      <td>download uber, register with this promo code n...</td>\n",
       "    </tr>\n",
       "    <tr>\n",
       "      <th>47</th>\n",
       "      <td>I love Manchester. Everyone knows that - I hav...</td>\n",
       "      <td>2</td>\n",
       "      <td>love manchester. everyone knows that have said...</td>\n",
       "    </tr>\n",
       "    <tr>\n",
       "      <th>48</th>\n",
       "      <td>RT @user It’s not “alt-right.” It’s Neo-Nazi.h...</td>\n",
       "      <td>0</td>\n",
       "      <td>-right-nazi.</td>\n",
       "    </tr>\n",
       "    <tr>\n",
       "      <th>49</th>\n",
       "      <td>@user In august2008.puppet Saakashvili attacke...</td>\n",
       "      <td>0</td>\n",
       "      <td>august2008.puppet saakashvili attacked south o...</td>\n",
       "    </tr>\n",
       "  </tbody>\n",
       "</table>\n",
       "</div>\n",
       "    <div class=\"colab-df-buttons\">\n",
       "      \n",
       "  <div class=\"colab-df-container\">\n",
       "    <button class=\"colab-df-convert\" onclick=\"convertToInteractive('df-b82f44c6-14dc-4314-b6a9-42c94b9a9a6e')\"\n",
       "            title=\"Convert this dataframe to an interactive table.\"\n",
       "            style=\"display:none;\">\n",
       "      \n",
       "  <svg xmlns=\"http://www.w3.org/2000/svg\" height=\"24px\" viewBox=\"0 -960 960 960\">\n",
       "    <path d=\"M120-120v-720h720v720H120Zm60-500h600v-160H180v160Zm220 220h160v-160H400v160Zm0 220h160v-160H400v160ZM180-400h160v-160H180v160Zm440 0h160v-160H620v160ZM180-180h160v-160H180v160Zm440 0h160v-160H620v160Z\"/>\n",
       "  </svg>\n",
       "    </button>\n",
       "    \n",
       "  <style>\n",
       "    .colab-df-container {\n",
       "      display:flex;\n",
       "      gap: 12px;\n",
       "    }\n",
       "\n",
       "    .colab-df-convert {\n",
       "      background-color: #E8F0FE;\n",
       "      border: none;\n",
       "      border-radius: 50%;\n",
       "      cursor: pointer;\n",
       "      display: none;\n",
       "      fill: #1967D2;\n",
       "      height: 32px;\n",
       "      padding: 0 0 0 0;\n",
       "      width: 32px;\n",
       "    }\n",
       "\n",
       "    .colab-df-convert:hover {\n",
       "      background-color: #E2EBFA;\n",
       "      box-shadow: 0px 1px 2px rgba(60, 64, 67, 0.3), 0px 1px 3px 1px rgba(60, 64, 67, 0.15);\n",
       "      fill: #174EA6;\n",
       "    }\n",
       "\n",
       "    .colab-df-buttons div {\n",
       "      margin-bottom: 4px;\n",
       "    }\n",
       "\n",
       "    [theme=dark] .colab-df-convert {\n",
       "      background-color: #3B4455;\n",
       "      fill: #D2E3FC;\n",
       "    }\n",
       "\n",
       "    [theme=dark] .colab-df-convert:hover {\n",
       "      background-color: #434B5C;\n",
       "      box-shadow: 0px 1px 3px 1px rgba(0, 0, 0, 0.15);\n",
       "      filter: drop-shadow(0px 1px 2px rgba(0, 0, 0, 0.3));\n",
       "      fill: #FFFFFF;\n",
       "    }\n",
       "  </style>\n",
       "\n",
       "    <script>\n",
       "      const buttonEl =\n",
       "        document.querySelector('#df-b82f44c6-14dc-4314-b6a9-42c94b9a9a6e button.colab-df-convert');\n",
       "      buttonEl.style.display =\n",
       "        google.colab.kernel.accessAllowed ? 'block' : 'none';\n",
       "\n",
       "      async function convertToInteractive(key) {\n",
       "        const element = document.querySelector('#df-b82f44c6-14dc-4314-b6a9-42c94b9a9a6e');\n",
       "        const dataTable =\n",
       "          await google.colab.kernel.invokeFunction('convertToInteractive',\n",
       "                                                    [key], {});\n",
       "        if (!dataTable) return;\n",
       "\n",
       "        const docLinkHtml = 'Like what you see? Visit the ' +\n",
       "          '<a target=\"_blank\" href=https://colab.research.google.com/notebooks/data_table.ipynb>data table notebook</a>'\n",
       "          + ' to learn more about interactive tables.';\n",
       "        element.innerHTML = '';\n",
       "        dataTable['output_type'] = 'display_data';\n",
       "        await google.colab.output.renderOutput(dataTable, element);\n",
       "        const docLink = document.createElement('div');\n",
       "        docLink.innerHTML = docLinkHtml;\n",
       "        element.appendChild(docLink);\n",
       "      }\n",
       "    </script>\n",
       "  </div>\n",
       "  \n",
       "    </div>\n",
       "  </div>\n",
       "  "
      ],
      "text/plain": [
       "                                                 text  label  \\\n",
       "0   @user @user what do these '1/2 naked pics' hav...      1   \n",
       "1   OH: “I had a blue penis while I was this” [pla...      1   \n",
       "2   @user @user That's coming, but I think the vic...      1   \n",
       "3   I think I may be finally in with the in crowd ...      2   \n",
       "4   @user Wow,first Hugo Chavez and now Fidel Cast...      0   \n",
       "5   Savchenko now Saakashvili took drug test live ...      1   \n",
       "6             How many more days until opening day? 😩      1   \n",
       "7   Twitter's #ThankYouObama Shows Heartfelt Grati...      2   \n",
       "8   All CSG and Fracking all around Australia is t...      1   \n",
       "9   @user @user @user @user @user @user take away ...      0   \n",
       "10  An interesting security vulnerability - albeit...      1   \n",
       "11  #GilmoreGirlsTop4 1. Spoke2. Paris3. Emily4. P...      1   \n",
       "12     #onedirection #harrystyles cute little dance 😉      2   \n",
       "13  When Ryan privatizes SS, Medicare, Medicaid, &...      0   \n",
       "14  Swampbitch Nasty Pelosi  loves yelling 'Fire' ...      0   \n",
       "15  @user ohhh ok i see 🤔 what if u have medical m...      1   \n",
       "16  OPINION: The Anti-#Trump #Riots Are a #SmokeSc...      1   \n",
       "17  ISIS and The CIA What You Need To Know! #ISIS ...      1   \n",
       "18  @user alt-right was adopted by Deplorables. Av...      1   \n",
       "19  @user #GilmoreGirlsTop4 Lorelai, Rory, Lane, S...      1   \n",
       "20  Christians In Palestine: Yes, They Exist #gaza...      1   \n",
       "21  @user Going to see #FantasticBeasts this after...      2   \n",
       "22  Listen to win passes to see #FantasticBeasts a...      1   \n",
       "23  The United Nations Headquarters in New York #u...      1   \n",
       "24  Zac Efron Flaunts Fit Abs in New ‘Dirty Grandp...      1   \n",
       "25               1am and I'm still watching #ThisIsUs      1   \n",
       "26  The left has really gone Full retard haven't t...      0   \n",
       "27  #Israel fire updates: Major blaze breaks out n...      1   \n",
       "28  RT @user Can I politely suggest that we all st...      1   \n",
       "29  Day 5 Advent Gift Countdown - 'Gold Standard' ...      1   \n",
       "30       When Jesse Jackson Cozied Up to Fidel Castro      1   \n",
       "31  Ben Carson awoke this morning to find out that...      1   \n",
       "32                           Bike parking still free.      1   \n",
       "33  Can't wait to try this - Google Earth VR - thi...      2   \n",
       "34  @user @user Trump is likely supporting Putin t...      1   \n",
       "35  The fact that mike pence thinks there's a \"cur...      0   \n",
       "36   @user @user @user .....Good Old Graham Westley!!      2   \n",
       "37  Photos: A Thanksgiving protest against Dakota ...      1   \n",
       "38  @user @user @user @user Clinton foundation rem...      0   \n",
       "39  Survey shows Poroshenko has lost considerable ...      1   \n",
       "40  When Trump jeopardizes their social security a...      0   \n",
       "41  At Any Price review – generations clash in the...      1   \n",
       "42  Next?#draintheswamp #TimeForChange#TrumpTransi...      1   \n",
       "43  Wow - the world as we know it is slowly turnin...      2   \n",
       "44  So that Westworld show, it isn't too bad. I gu...      1   \n",
       "45      Grayson Allen just gave dude such a sick move      0   \n",
       "46  Download UBER app, Register with this promo co...      1   \n",
       "47  I love Manchester. Everyone knows that - I hav...      2   \n",
       "48  RT @user It’s not “alt-right.” It’s Neo-Nazi.h...      0   \n",
       "49  @user In august2008.puppet Saakashvili attacke...      0   \n",
       "\n",
       "                                       processed_text  \n",
       "0   what these naked pics' have with anything? the...  \n",
       "1   blue penis while this” [playing with google ea...  \n",
       "2   that coming think victims going medicaid recip...  \n",
       "3   think finally with crowd mannequinchallenge gr...  \n",
       "4   ,first hugo chavez fidel castro. danny glover,...  \n",
       "5   savchenko saakashvili took drug test live ukra...  \n",
       "6                       many more days until opening?  \n",
       "7   twitter thankyouobama shows heartfelt gratitud...  \n",
       "8   fracking around australia cease mining entitie...  \n",
       "9   take away illegals dead people trump wins popu...  \n",
       "10  interesting security vulnerability - albeit ev...  \n",
       "11  gilmoregirlstop4. spoke2. paris3. emily4. patt...  \n",
       "12         onedirection harrystyles cute little dance  \n",
       "13  when ryan privatizes, medicare, medicaid, & do...  \n",
       "14  swampbitch nasty pelosi loves yelling 'fire cr...  \n",
       "15  ohhh what have medical marijuana clearance? do...  \n",
       "16              opinion anti-trump riots smokescreen:  \n",
       "17  isis what need know! isis falseflag saudi moss...  \n",
       "18  -right adopted deplorables. average middle ame...  \n",
       "19       gilmoregirlstop4 lorelai, rory, lane, sookie  \n",
       "20  christians palestine, they exist gaza palestin...  \n",
       "21  going fantasticbeasts this afternoon potter fa...  \n",
       "22               listen passes fantasticbeasts after/  \n",
       "23  united nations headquarters york unitednations...  \n",
       "24          efron flaunts ‘dirty grandpa’... zacefron  \n",
       "25                            still watching thisisus  \n",
       "26           left really gone full retard haven they?  \n",
       "27  israel fire updates: major blaze breaks near j...  \n",
       "28  politely suggest that stop using term-right ot...  \n",
       "29  advent gift countdown - 'gold standard' 20more...  \n",
       "30             when jesse jackson cozied fidel castro  \n",
       "31   carson awoke this morning find that yellow thing  \n",
       "32                           bike parking still free.  \n",
       "33  wait this - google earth - this stuff really f...  \n",
       "34  trump likely supporting putin talking unsecure...  \n",
       "35  fact that mike pence thinks there \"cure being ...  \n",
       "36                         .....good graham westley!!  \n",
       "37  photos thanksgiving protest against dakota acc...  \n",
       "38  clinton foundation reminds maharashtra antuley...  \n",
       "39  survey shows poroshenko lost considerable elec...  \n",
       "40  when trump jeopardizes their social security m...  \n",
       "41  price review – generations clash american midw...  \n",
       "42  next?draintheswamp timeforchange#trumptransiti...  \n",
       "43  world know slowly turning upside down: microso...  \n",
       "44    that westworld show guess like that sort thing.  \n",
       "45        grayson allen just gave dude such sick move  \n",
       "46  download uber, register with this promo code n...  \n",
       "47  love manchester. everyone knows that have said...  \n",
       "48                                       -right-nazi.  \n",
       "49  august2008.puppet saakashvili attacked south o...  "
      ]
     },
     "execution_count": 7,
     "metadata": {},
     "output_type": "execute_result"
    }
   ],
   "source": [
    "df.head(50)"
   ]
  },
  {
   "cell_type": "code",
   "execution_count": null,
   "id": "08c4150a",
   "metadata": {
    "colab": {
     "base_uri": "https://localhost:8080/"
    },
    "id": "08c4150a",
    "outputId": "d7177fdd-d97f-48d3-b014-93dafe0e0390"
   },
   "outputs": [
    {
     "name": "stderr",
     "output_type": "stream",
     "text": [
      "/usr/local/lib/python3.12/dist-packages/huggingface_hub/utils/_auth.py:94: UserWarning: \n",
      "The secret `HF_TOKEN` does not exist in your Colab secrets.\n",
      "To authenticate with the Hugging Face Hub, create a token in your settings tab (https://huggingface.co/settings/tokens), set it as secret in your Google Colab and restart your session.\n",
      "You will be able to reuse this secret in all of your notebooks.\n",
      "Please note that authentication is recommended but still optional to access public models or datasets.\n",
      "  warnings.warn(\n",
      "Some weights of the model checkpoint at cardiffnlp/twitter-roberta-base-sentiment-latest were not used when initializing RobertaForSequenceClassification: ['roberta.pooler.dense.bias', 'roberta.pooler.dense.weight']\n",
      "- This IS expected if you are initializing RobertaForSequenceClassification from the checkpoint of a model trained on another task or with another architecture (e.g. initializing a BertForSequenceClassification model from a BertForPreTraining model).\n",
      "- This IS NOT expected if you are initializing RobertaForSequenceClassification from the checkpoint of a model that you expect to be exactly identical (initializing a BertForSequenceClassification model from a BertForSequenceClassification model).\n",
      "Device set to use cuda:0\n"
     ]
    }
   ],
   "source": [
    "model_name = \"cardiffnlp/twitter-roberta-base-sentiment-latest\"\n",
    "sentiment_pipeline = pipeline(\"sentiment-analysis\", model=model_name, tokenizer=model_name)"
   ]
  },
  {
   "cell_type": "code",
   "execution_count": null,
   "id": "t7bSieDiZjH9",
   "metadata": {
    "colab": {
     "base_uri": "https://localhost:8080/"
    },
    "id": "t7bSieDiZjH9",
    "outputId": "56dc2ac1-eb58-465c-f310-e3f7802bfa6a"
   },
   "outputs": [
    {
     "data": {
      "text/plain": [
       "[{'label': 'neutral', 'score': 0.8653273582458496},\n",
       " {'label': 'positive', 'score': 0.9465565085411072}]"
      ]
     },
     "execution_count": 9,
     "metadata": {},
     "output_type": "execute_result"
    }
   ],
   "source": [
    "label = sentiment_pipeline(['kiya tho refresh maarkefir comment karo', 'You\\'re handsome'])\n",
    "label"
   ]
  },
  {
   "cell_type": "markdown",
   "id": "zXRAnj76aGSt",
   "metadata": {
    "id": "zXRAnj76aGSt"
   },
   "source": [
    "# Test on dataset"
   ]
  },
  {
   "cell_type": "code",
   "execution_count": null,
   "id": "mWdZJnIIdAbd",
   "metadata": {
    "id": "mWdZJnIIdAbd"
   },
   "outputs": [],
   "source": [
    "df['mapped_labels'] = df['label'].replace({0: 'negative', 1: 'neutral', 2: 'positive'})"
   ]
  },
  {
   "cell_type": "code",
   "execution_count": null,
   "id": "3tRaW9gtdJQM",
   "metadata": {
    "colab": {
     "base_uri": "https://localhost:8080/",
     "height": 210
    },
    "id": "3tRaW9gtdJQM",
    "outputId": "9e3d3899-3ecb-4f36-8df4-4c9abf054601"
   },
   "outputs": [
    {
     "data": {
      "text/html": [
       "<div>\n",
       "<style scoped>\n",
       "    .dataframe tbody tr th:only-of-type {\n",
       "        vertical-align: middle;\n",
       "    }\n",
       "\n",
       "    .dataframe tbody tr th {\n",
       "        vertical-align: top;\n",
       "    }\n",
       "\n",
       "    .dataframe thead th {\n",
       "        text-align: right;\n",
       "    }\n",
       "</style>\n",
       "<table border=\"1\" class=\"dataframe\">\n",
       "  <thead>\n",
       "    <tr style=\"text-align: right;\">\n",
       "      <th></th>\n",
       "      <th>0</th>\n",
       "    </tr>\n",
       "  </thead>\n",
       "  <tbody>\n",
       "    <tr>\n",
       "      <th>text</th>\n",
       "      <td>0</td>\n",
       "    </tr>\n",
       "    <tr>\n",
       "      <th>label</th>\n",
       "      <td>0</td>\n",
       "    </tr>\n",
       "    <tr>\n",
       "      <th>processed_text</th>\n",
       "      <td>0</td>\n",
       "    </tr>\n",
       "    <tr>\n",
       "      <th>mapped_labels</th>\n",
       "      <td>0</td>\n",
       "    </tr>\n",
       "  </tbody>\n",
       "</table>\n",
       "</div><br><label><b>dtype:</b> int64</label>"
      ],
      "text/plain": [
       "text              0\n",
       "label             0\n",
       "processed_text    0\n",
       "mapped_labels     0\n",
       "dtype: int64"
      ]
     },
     "execution_count": 11,
     "metadata": {},
     "output_type": "execute_result"
    }
   ],
   "source": [
    "df.isna().sum()"
   ]
  },
  {
   "cell_type": "code",
   "execution_count": null,
   "id": "jgDzgZWQdMCE",
   "metadata": {
    "id": "jgDzgZWQdMCE"
   },
   "outputs": [],
   "source": [
    "# Drop rows with missing values\n",
    "df.dropna(subset=['text', 'label'], inplace=True)"
   ]
  },
  {
   "cell_type": "code",
   "execution_count": null,
   "id": "BkhrC2kGdT2l",
   "metadata": {
    "colab": {
     "base_uri": "https://localhost:8080/"
    },
    "id": "BkhrC2kGdT2l",
    "outputId": "7be86db8-dfd3-42af-dce7-f97aec1d4ae9"
   },
   "outputs": [
    {
     "name": "stdout",
     "output_type": "stream",
     "text": [
      "label\n",
      "1    5937\n",
      "0    3972\n",
      "2    2375\n",
      "Name: count, dtype: int64\n"
     ]
    }
   ],
   "source": [
    "# Display some stats\n",
    "print(df['label'].value_counts())"
   ]
  },
  {
   "cell_type": "code",
   "execution_count": null,
   "id": "QlikmFdQdZ-t",
   "metadata": {
    "colab": {
     "base_uri": "https://localhost:8080/",
     "height": 564
    },
    "id": "QlikmFdQdZ-t",
    "outputId": "1df4bcda-16e1-4e28-8a4d-c99c87748a62"
   },
   "outputs": [
    {
     "data": {
      "image/png": "[encoded data removed]",
      "text/plain": [
       "<Figure size 1000x600 with 1 Axes>"
      ]
     },
     "metadata": {},
     "output_type": "display_data"
    }
   ],
   "source": [
    "dist = df['mapped_labels'].value_counts()\n",
    "def distribution_plot(x, y, name):\n",
    "    plt.figure(figsize=(10, 6))\n",
    "    sns.barplot(x=x, y=y)\n",
    "    plt.title(name)\n",
    "    plt.show()\n",
    "\n",
    "distribution_plot(x=dist.index, y=dist.values, name='Class Distribution train')"
   ]
  },
  {
   "cell_type": "code",
   "execution_count": null,
   "id": "7JTxAQcjaIKs",
   "metadata": {
    "colab": {
     "base_uri": "https://localhost:8080/"
    },
    "id": "7JTxAQcjaIKs",
    "outputId": "1a13409a-d830-4350-876e-5a04022e292b"
   },
   "outputs": [
    {
     "data": {
      "text/plain": [
       "(12284, 4)"
      ]
     },
     "execution_count": 15,
     "metadata": {},
     "output_type": "execute_result"
    }
   ],
   "source": [
    "df.shape"
   ]
  },
  {
   "cell_type": "code",
   "execution_count": null,
   "id": "Pc6gy-r4aKJ8",
   "metadata": {
    "id": "Pc6gy-r4aKJ8"
   },
   "outputs": [],
   "source": [
    "sample_text = df[:300]"
   ]
  },
  {
   "cell_type": "code",
   "execution_count": null,
   "id": "H6d4GEMwaQPE",
   "metadata": {
    "colab": {
     "base_uri": "https://localhost:8080/"
    },
    "id": "H6d4GEMwaQPE",
    "outputId": "f032c86d-8af6-4168-b035-6512aa8e67cf"
   },
   "outputs": [
    {
     "data": {
      "text/plain": [
       "(300, 4)"
      ]
     },
     "execution_count": 17,
     "metadata": {},
     "output_type": "execute_result"
    }
   ],
   "source": [
    "sample_text.shape"
   ]
  },
  {
   "cell_type": "code",
   "execution_count": null,
   "id": "t9S8QLseaS28",
   "metadata": {
    "id": "t9S8QLseaS28"
   },
   "outputs": [],
   "source": [
    "def get_sentiment(text):\n",
    "  return(sentiment_pipeline(text)[0]['label'])"
   ]
  },
  {
   "cell_type": "code",
   "execution_count": null,
   "id": "tz1VAAzCarYM",
   "metadata": {
    "id": "tz1VAAzCarYM"
   },
   "outputs": [],
   "source": [
    "#sample_text['RoBerta'] = df['processed_text'].apply(get_sentiment)"
   ]
  },
  {
   "cell_type": "code",
   "execution_count": null,
   "id": "G8Lt2EQpbDUc",
   "metadata": {
    "colab": {
     "base_uri": "https://localhost:8080/"
    },
    "id": "G8Lt2EQpbDUc",
    "outputId": "a323bdff-96bc-4fb3-b4b4-dc26d2241010"
   },
   "outputs": [
    {
     "name": "stderr",
     "output_type": "stream",
     "text": [
      "  2%|▏         | 9/384 [00:10<05:39,  1.11it/s]You seem to be using the pipelines sequentially on GPU. In order to maximize efficiency please use a dataset\n",
      "100%|██████████| 384/384 [01:57<00:00,  3.26it/s]\n"
     ]
    }
   ],
   "source": [
    "def predict_sentiment_batch(df, text_column=\"processed_text\", batch_size=32):\n",
    "    results = []\n",
    "    for i in tqdm(range(0, len(df), batch_size)):\n",
    "        batch_texts = df[text_column].iloc[i:i+batch_size].tolist()\n",
    "        preds = sentiment_pipeline(batch_texts)\n",
    "        results.extend([p['label'] for p in preds])\n",
    "    return results\n",
    "\n",
    "# just for test, need to extend on all date\n",
    "df[\"roberta_pred\"] = predict_sentiment_batch(df)\n"
   ]
  },
  {
   "cell_type": "code",
   "execution_count": null,
   "id": "DCal_m2De3BU",
   "metadata": {
    "colab": {
     "base_uri": "https://localhost:8080/",
     "height": 680
    },
    "id": "DCal_m2De3BU",
    "outputId": "48b191b2-e157-43cb-a79a-0c0b485b0c88"
   },
   "outputs": [
    {
     "name": "stdout",
     "output_type": "stream",
     "text": [
      "\n",
      "📊 Report di classificazione:\n",
      "              precision    recall  f1-score   support\n",
      "\n",
      "    negative       0.68      0.71      0.70      3972\n",
      "     neutral       0.68      0.73      0.70      5937\n",
      "    positive       0.74      0.54      0.63      2375\n",
      "\n",
      "    accuracy                           0.69     12284\n",
      "   macro avg       0.70      0.66      0.68     12284\n",
      "weighted avg       0.69      0.69      0.69     12284\n",
      "\n"
     ]
    },
    {
     "data": {
      "image/png": "[encoded data removed]",
      "text/plain": [
       "<Figure size 640x480 with 2 Axes>"
      ]
     },
     "metadata": {},
     "output_type": "display_data"
    }
   ],
   "source": [
    "from sklearn.metrics import classification_report, confusion_matrix\n",
    "\n",
    "print(\"\\n📊 Report di classificazione:\")\n",
    "print(classification_report(df[\"mapped_labels\"], df[\"roberta_pred\"], zero_division=0))\n",
    "\n",
    "cm = confusion_matrix(df[\"mapped_labels\"], df[\"roberta_pred\"], labels=[\"negative\", \"neutral\", \"positive\"])\n",
    "sns.heatmap(cm, annot=True, fmt=\"d\", cmap=\"Blues\", xticklabels=[\"neg\",\"neu\",\"pos\"], yticklabels=[\"neg\",\"neu\",\"pos\"])\n",
    "plt.title(\"Confusion Matrix\")\n",
    "plt.xlabel(\"Predicted\")\n",
    "plt.ylabel(\"True\")\n",
    "plt.show()\n"
   ]
  },
  {
   "cell_type": "code",
   "execution_count": null,
   "id": "xgG3rOAefTV0",
   "metadata": {
    "colab": {
     "base_uri": "https://localhost:8080/"
    },
    "id": "xgG3rOAefTV0",
    "outputId": "56c0868e-ae3b-4848-c6cd-6fee9092dec9"
   },
   "outputs": [
    {
     "name": "stdout",
     "output_type": "stream",
     "text": [
      "                                          processed_text mapped_labels  \\\n",
      "983    jong doesn like being called fatty third’compa...       neutral   \n",
      "3558   tech summary: bangladesh says uber 'illegal', ...       neutral   \n",
      "4446   they have esperienced talent time freshman. gr...      positive   \n",
      "2924   took this capital salt lake. fitting scripture...      negative   \n",
      "11376  hell twdfamily official magazine followed like...       neutral   \n",
      "\n",
      "      roberta_pred  \n",
      "983       negative  \n",
      "3558      negative  \n",
      "4446       neutral  \n",
      "2924       neutral  \n",
      "11376     positive  \n"
     ]
    }
   ],
   "source": [
    "errors = df[df[\"label\"] != df[\"roberta_pred\"]]\n",
    "print(errors.sample(5)[[\"processed_text\", \"mapped_labels\", \"roberta_pred\"]])\n"
   ]
  }
 ],
 "metadata": {
  "accelerator": "GPU",
  "colab": {
   "gpuType": "T4",
   "provenance": []
  },
  "kernelspec": {
   "display_name": "Python (sentiment_env)",
   "language": "python",
   "name": "sentiment_env"
  },
  "language_info": {
   "codemirror_mode": {
    "name": "ipython",
    "version": 3
   },
   "file_extension": ".py",
   "mimetype": "text/x-python",
   "name": "python",
   "nbconvert_exporter": "python",
   "pygments_lexer": "ipython3",
   "version": "3.12.1"
  }
 },
 "nbformat": 4,
 "nbformat_minor": 5
}
