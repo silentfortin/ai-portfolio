{
 "cells": [
  {
   "cell_type": "markdown",
   "id": "cUqF1ohRDvYQ",
   "metadata": {
    "id": "cUqF1ohRDvYQ"
   },
   "source": [
    "### Sentiment Analysis on Tweets using Hugging Face Transformers\n",
    "\n",
    "Phase 1: Implementing the sentiment analysis model\n",
    "Project: MLOps Reputation Monitoring for MachineInnovators Inc.\n",
    "\n",
    "\n",
    "Import essential libraries for data manipulation, visualization, and ML evaluation\n"
   ]
  },
  {
   "cell_type": "code",
   "execution_count": 17,
   "id": "-nf74Qp8Gl_v",
   "metadata": {
    "colab": {
     "base_uri": "https://localhost:8080/"
    },
    "id": "-nf74Qp8Gl_v",
    "outputId": "30db3668-b198-45bc-bce7-cac03b0e4762"
   },
   "outputs": [
    {
     "name": "stdout",
     "output_type": "stream",
     "text": [
      "\u001b[?25l     \u001b[90m━━━━━━━━━━━━━━━━━━━━━━━━━━━━━━━━━━━━━━━━\u001b[0m \u001b[32m0.0/185.1 kB\u001b[0m \u001b[31m?\u001b[0m eta \u001b[36m-:--:--\u001b[0m\r",
      "\u001b[2K     \u001b[91m━━━━━━━━━━━━━━━━━━━━━━━━━━━━━━━━━━━━━━\u001b[0m\u001b[91m╸\u001b[0m \u001b[32m184.3/185.1 kB\u001b[0m \u001b[31m5.8 MB/s\u001b[0m eta \u001b[36m0:00:01\u001b[0m\r",
      "\u001b[2K     \u001b[90m━━━━━━━━━━━━━━━━━━━━━━━━━━━━━━━━━━━━━━━\u001b[0m \u001b[32m185.1/185.1 kB\u001b[0m \u001b[31m3.9 MB/s\u001b[0m eta \u001b[36m0:00:00\u001b[0m\n",
      "\u001b[?25h  Preparing metadata (setup.py) ... \u001b[?25l\u001b[?25hdone\n",
      "  Building wheel for emoji (setup.py) ... \u001b[?25l\u001b[?25hdone\n"
     ]
    }
   ],
   "source": [
    "!pip install emoji==1.4.1 -q"
   ]
  },
  {
   "cell_type": "code",
   "execution_count": 18,
   "id": "5c3c502f",
   "metadata": {
    "id": "5c3c502f"
   },
   "outputs": [],
   "source": [
    "import pandas as pd\n",
    "import numpy as np\n",
    "import kagglehub\n",
    "import re\n",
    "import seaborn as sns\n",
    "import matplotlib.pyplot as plt\n",
    "import emoji\n",
    "\n",
    "from kagglehub import KaggleDatasetAdapter\n",
    "\n",
    "from transformers import pipeline\n",
    "from datasets import load_dataset\n",
    "from sklearn.metrics import classification_report, confusion_matrix\n",
    "from tqdm import tqdm"
   ]
  },
  {
   "cell_type": "code",
   "execution_count": 19,
   "id": "9nJH8hu6BVk_",
   "metadata": {
    "id": "9nJH8hu6BVk_"
   },
   "outputs": [],
   "source": [
    "# Disable warnings and logs for clean output\n",
    "import warnings\n",
    "warnings.filterwarnings(\"ignore\")\n",
    "import os\n",
    "os.environ['TF_CPP_MIN_LOG_LEVEL'] = '3'\n",
    "import tensorflow as tf\n",
    "tf.compat.v1.logging.set_verbosity(tf.compat.v1.logging.ERROR)"
   ]
  },
  {
   "cell_type": "markdown",
   "id": "Y8P1MieDD8UX",
   "metadata": {
    "id": "Y8P1MieDD8UX"
   },
   "source": [
    "### Load Dataset from KaggleHub\n",
    "\n",
    "The dataset contains tweet texts labeled as negative, neutral, or positive.\n",
    "It will be used to evaluate a pre-trained transformer model (RoBERTa).\n"
   ]
  },
  {
   "cell_type": "code",
   "execution_count": 20,
   "id": "7e3702cb",
   "metadata": {
    "colab": {
     "base_uri": "https://localhost:8080/"
    },
    "id": "7e3702cb",
    "outputId": "8d97d6d2-fdd9-4770-acf1-de63231f3b65"
   },
   "outputs": [
    {
     "name": "stdout",
     "output_type": "stream",
     "text": [
      "Using Colab cache for faster access to the 'tweeteval-a-multi-task-classification-benchmark' dataset.\n",
      "First 5 records:                                                 text  label\n",
      "0  @user @user what do these '1/2 naked pics' hav...      1\n",
      "1  OH: “I had a blue penis while I was this” [pla...      1\n",
      "2  @user @user That's coming, but I think the vic...      1\n",
      "3  I think I may be finally in with the in crowd ...      2\n",
      "4  @user Wow,first Hugo Chavez and now Fidel Cast...      0\n"
     ]
    }
   ],
   "source": [
    "file_path = \"sentiment_test.csv\"\n",
    "\n",
    "# Load the latest version\n",
    "df = kagglehub.load_dataset(\n",
    "  KaggleDatasetAdapter.PANDAS,\n",
    "  \"thedevastator/tweeteval-a-multi-task-classification-benchmark\",\n",
    "  file_path,\n",
    ")\n",
    "\n",
    "print(\"First 5 records:\", df.head())"
   ]
  },
  {
   "cell_type": "code",
   "execution_count": 21,
   "id": "08c48604",
   "metadata": {
    "colab": {
     "base_uri": "https://localhost:8080/"
    },
    "id": "08c48604",
    "outputId": "702bddc7-b575-4eaa-fe24-5c6d3e7f6a3a"
   },
   "outputs": [
    {
     "name": "stdout",
     "output_type": "stream",
     "text": [
      "<class 'pandas.core.frame.DataFrame'>\n",
      "RangeIndex: 12284 entries, 0 to 12283\n",
      "Data columns (total 2 columns):\n",
      " #   Column  Non-Null Count  Dtype \n",
      "---  ------  --------------  ----- \n",
      " 0   text    12284 non-null  object\n",
      " 1   label   12284 non-null  int64 \n",
      "dtypes: int64(1), object(1)\n",
      "memory usage: 192.1+ KB\n"
     ]
    }
   ],
   "source": [
    "df.info()"
   ]
  },
  {
   "cell_type": "markdown",
   "id": "-TixQd95EEDQ",
   "metadata": {
    "id": "-TixQd95EEDQ"
   },
   "source": [
    "### Text Preprocessing Function\n",
    "\n",
    "Cleans raw text by:\n",
    " - Lowercasing\n",
    " - Removing URLs, usernames, and emojis\n",
    " - Normalizing hashtags\n",
    " - Removing short or meaningless words (<4 chars)\n",
    "\n",
    "The cleaned text will be used as input to the sentiment model.\n"
   ]
  },
  {
   "cell_type": "code",
   "execution_count": 28,
   "id": "qL0Ily66hsBW",
   "metadata": {
    "id": "qL0Ily66hsBW"
   },
   "outputs": [],
   "source": [
    "def remove_emoji(text):\n",
    "    \"\"\"\n",
    "    Remove all emojis from a given text string.\n",
    "\n",
    "    Args:\n",
    "        text (str): Input text that may contain emojis.\n",
    "\n",
    "    Returns:\n",
    "        str: Cleaned text with all emojis removed.\n",
    "    \"\"\"\n",
    "    return emoji.replace_emoji(text, '')\n"
   ]
  },
  {
   "cell_type": "code",
   "execution_count": 29,
   "id": "84d87ca0",
   "metadata": {
    "id": "84d87ca0"
   },
   "outputs": [],
   "source": [
    "def clean_text(text):\n",
    "    \"\"\"\n",
    "    Clean a single text entry by removing noise and normalizing content.\n",
    "\n",
    "    Steps:\n",
    "      - Lowercase conversion\n",
    "      - Remove emojis, URLs, usernames, and short words\n",
    "      - Normalize hashtags and extra spaces\n",
    "\n",
    "    Args:\n",
    "        text (str): Raw tweet text.\n",
    "\n",
    "    Returns:\n",
    "        str: Preprocessed and cleaned text ready for sentiment prediction.\n",
    "    \"\"\"\n",
    "\n",
    "    if not isinstance(text, str):\n",
    "        return \"\"\n",
    "    text = text.lower()\n",
    "    text = remove_emoji(text)\n",
    "    text = re.sub(r'((www\\.[^\\s]+)|(https?://[^\\s]+))', '', text)\n",
    "    text = re.sub(r'@[^\\s]+', '', text)\n",
    "    text = re.sub(r'#([^\\s]+)', r'\\1', text)\n",
    "    text = re.sub(r'[\\s]+', ' ', text)\n",
    "    text = re.sub(r'\\W*\\b\\w{1,3}\\b', '', text)\n",
    "    return text.strip()\n",
    "\n",
    "df[\"processed_text\"] = df[\"text\"].apply(clean_text)"
   ]
  },
  {
   "cell_type": "code",
   "execution_count": 30,
   "id": "7a173791",
   "metadata": {
    "colab": {
     "base_uri": "https://localhost:8080/",
     "height": 35
    },
    "id": "7a173791",
    "outputId": "5ca67930-989f-46df-8ce0-892bce8eb187"
   },
   "outputs": [
    {
     "data": {
      "application/vnd.google.colaboratory.intrinsic+json": {
       "type": "string"
      },
      "text/plain": [
       "''"
      ]
     },
     "execution_count": 30,
     "metadata": {},
     "output_type": "execute_result"
    }
   ],
   "source": [
    "# Df cleaning\n",
    "clean_text(df)"
   ]
  },
  {
   "cell_type": "code",
   "execution_count": 31,
   "id": "fd2e6434",
   "metadata": {
    "colab": {
     "base_uri": "https://localhost:8080/",
     "height": 238
    },
    "id": "fd2e6434",
    "outputId": "c578f393-c197-42af-e76d-32b56d9ccbfb"
   },
   "outputs": [
    {
     "data": {
      "application/vnd.google.colaboratory.intrinsic+json": {
       "summary": "{\n  \"name\": \"df\",\n  \"rows\": 12284,\n  \"fields\": [\n    {\n      \"column\": \"text\",\n      \"properties\": {\n        \"dtype\": \"string\",\n        \"num_unique_values\": 12284,\n        \"samples\": [\n          \"Do you think Michelle Obama wanted to smack Melania Trump for plagiarizing her convention speech? She has the arms for it.\",\n          \"Well that finale was one big mindfuck \\ud83d\\ude33 #Westworld\",\n          \"Luis Enrique: \\\"In the first half I can't remember Celtic having a clear chance and Messi as usual was at a really high level.\\\" #fcblive\"\n        ],\n        \"semantic_type\": \"\",\n        \"description\": \"\"\n      }\n    },\n    {\n      \"column\": \"label\",\n      \"properties\": {\n        \"dtype\": \"number\",\n        \"std\": 0,\n        \"min\": 0,\n        \"max\": 2,\n        \"num_unique_values\": 3,\n        \"samples\": [\n          1,\n          2,\n          0\n        ],\n        \"semantic_type\": \"\",\n        \"description\": \"\"\n      }\n    },\n    {\n      \"column\": \"processed_text\",\n      \"properties\": {\n        \"dtype\": \"string\",\n        \"num_unique_values\": 12268,\n        \"samples\": [\n          \"luis enrique crowd were great, this great place play just handbags with celtic player.\\\" fcblive\",\n          \"cotus framers were classic conservatives were leery about pure democracy safeguard against someon\\u2026\",\n          \"explore world without plane ticket\"\n        ],\n        \"semantic_type\": \"\",\n        \"description\": \"\"\n      }\n    }\n  ]\n}",
       "type": "dataframe",
       "variable_name": "df"
      },
      "text/html": [
       "\n",
       "  <div id=\"df-0beb8545-9181-41a2-a354-a02ec4399162\" class=\"colab-df-container\">\n",
       "    <div>\n",
       "<style scoped>\n",
       "    .dataframe tbody tr th:only-of-type {\n",
       "        vertical-align: middle;\n",
       "    }\n",
       "\n",
       "    .dataframe tbody tr th {\n",
       "        vertical-align: top;\n",
       "    }\n",
       "\n",
       "    .dataframe thead th {\n",
       "        text-align: right;\n",
       "    }\n",
       "</style>\n",
       "<table border=\"1\" class=\"dataframe\">\n",
       "  <thead>\n",
       "    <tr style=\"text-align: right;\">\n",
       "      <th></th>\n",
       "      <th>text</th>\n",
       "      <th>label</th>\n",
       "      <th>processed_text</th>\n",
       "    </tr>\n",
       "  </thead>\n",
       "  <tbody>\n",
       "    <tr>\n",
       "      <th>0</th>\n",
       "      <td>@user @user what do these '1/2 naked pics' hav...</td>\n",
       "      <td>1</td>\n",
       "      <td>what these naked pics' have with anything? the...</td>\n",
       "    </tr>\n",
       "    <tr>\n",
       "      <th>1</th>\n",
       "      <td>OH: “I had a blue penis while I was this” [pla...</td>\n",
       "      <td>1</td>\n",
       "      <td>blue penis while this” [playing with google ea...</td>\n",
       "    </tr>\n",
       "    <tr>\n",
       "      <th>2</th>\n",
       "      <td>@user @user That's coming, but I think the vic...</td>\n",
       "      <td>1</td>\n",
       "      <td>that coming think victims going medicaid recip...</td>\n",
       "    </tr>\n",
       "    <tr>\n",
       "      <th>3</th>\n",
       "      <td>I think I may be finally in with the in crowd ...</td>\n",
       "      <td>2</td>\n",
       "      <td>think finally with crowd mannequinchallenge gr...</td>\n",
       "    </tr>\n",
       "    <tr>\n",
       "      <th>4</th>\n",
       "      <td>@user Wow,first Hugo Chavez and now Fidel Cast...</td>\n",
       "      <td>0</td>\n",
       "      <td>,first hugo chavez fidel castro. danny glover,...</td>\n",
       "    </tr>\n",
       "    <tr>\n",
       "      <th>5</th>\n",
       "      <td>Savchenko now Saakashvili took drug test live ...</td>\n",
       "      <td>1</td>\n",
       "      <td>savchenko saakashvili took drug test live ukra...</td>\n",
       "    </tr>\n",
       "  </tbody>\n",
       "</table>\n",
       "</div>\n",
       "    <div class=\"colab-df-buttons\">\n",
       "\n",
       "  <div class=\"colab-df-container\">\n",
       "    <button class=\"colab-df-convert\" onclick=\"convertToInteractive('df-0beb8545-9181-41a2-a354-a02ec4399162')\"\n",
       "            title=\"Convert this dataframe to an interactive table.\"\n",
       "            style=\"display:none;\">\n",
       "\n",
       "  <svg xmlns=\"http://www.w3.org/2000/svg\" height=\"24px\" viewBox=\"0 -960 960 960\">\n",
       "    <path d=\"M120-120v-720h720v720H120Zm60-500h600v-160H180v160Zm220 220h160v-160H400v160Zm0 220h160v-160H400v160ZM180-400h160v-160H180v160Zm440 0h160v-160H620v160ZM180-180h160v-160H180v160Zm440 0h160v-160H620v160Z\"/>\n",
       "  </svg>\n",
       "    </button>\n",
       "\n",
       "  <style>\n",
       "    .colab-df-container {\n",
       "      display:flex;\n",
       "      gap: 12px;\n",
       "    }\n",
       "\n",
       "    .colab-df-convert {\n",
       "      background-color: #E8F0FE;\n",
       "      border: none;\n",
       "      border-radius: 50%;\n",
       "      cursor: pointer;\n",
       "      display: none;\n",
       "      fill: #1967D2;\n",
       "      height: 32px;\n",
       "      padding: 0 0 0 0;\n",
       "      width: 32px;\n",
       "    }\n",
       "\n",
       "    .colab-df-convert:hover {\n",
       "      background-color: #E2EBFA;\n",
       "      box-shadow: 0px 1px 2px rgba(60, 64, 67, 0.3), 0px 1px 3px 1px rgba(60, 64, 67, 0.15);\n",
       "      fill: #174EA6;\n",
       "    }\n",
       "\n",
       "    .colab-df-buttons div {\n",
       "      margin-bottom: 4px;\n",
       "    }\n",
       "\n",
       "    [theme=dark] .colab-df-convert {\n",
       "      background-color: #3B4455;\n",
       "      fill: #D2E3FC;\n",
       "    }\n",
       "\n",
       "    [theme=dark] .colab-df-convert:hover {\n",
       "      background-color: #434B5C;\n",
       "      box-shadow: 0px 1px 3px 1px rgba(0, 0, 0, 0.15);\n",
       "      filter: drop-shadow(0px 1px 2px rgba(0, 0, 0, 0.3));\n",
       "      fill: #FFFFFF;\n",
       "    }\n",
       "  </style>\n",
       "\n",
       "    <script>\n",
       "      const buttonEl =\n",
       "        document.querySelector('#df-0beb8545-9181-41a2-a354-a02ec4399162 button.colab-df-convert');\n",
       "      buttonEl.style.display =\n",
       "        google.colab.kernel.accessAllowed ? 'block' : 'none';\n",
       "\n",
       "      async function convertToInteractive(key) {\n",
       "        const element = document.querySelector('#df-0beb8545-9181-41a2-a354-a02ec4399162');\n",
       "        const dataTable =\n",
       "          await google.colab.kernel.invokeFunction('convertToInteractive',\n",
       "                                                    [key], {});\n",
       "        if (!dataTable) return;\n",
       "\n",
       "        const docLinkHtml = 'Like what you see? Visit the ' +\n",
       "          '<a target=\"_blank\" href=https://colab.research.google.com/notebooks/data_table.ipynb>data table notebook</a>'\n",
       "          + ' to learn more about interactive tables.';\n",
       "        element.innerHTML = '';\n",
       "        dataTable['output_type'] = 'display_data';\n",
       "        await google.colab.output.renderOutput(dataTable, element);\n",
       "        const docLink = document.createElement('div');\n",
       "        docLink.innerHTML = docLinkHtml;\n",
       "        element.appendChild(docLink);\n",
       "      }\n",
       "    </script>\n",
       "  </div>\n",
       "\n",
       "\n",
       "    <div id=\"df-b5f3dd7f-671a-4c75-b586-9b74c4689109\">\n",
       "      <button class=\"colab-df-quickchart\" onclick=\"quickchart('df-b5f3dd7f-671a-4c75-b586-9b74c4689109')\"\n",
       "                title=\"Suggest charts\"\n",
       "                style=\"display:none;\">\n",
       "\n",
       "<svg xmlns=\"http://www.w3.org/2000/svg\" height=\"24px\"viewBox=\"0 0 24 24\"\n",
       "     width=\"24px\">\n",
       "    <g>\n",
       "        <path d=\"M19 3H5c-1.1 0-2 .9-2 2v14c0 1.1.9 2 2 2h14c1.1 0 2-.9 2-2V5c0-1.1-.9-2-2-2zM9 17H7v-7h2v7zm4 0h-2V7h2v10zm4 0h-2v-4h2v4z\"/>\n",
       "    </g>\n",
       "</svg>\n",
       "      </button>\n",
       "\n",
       "<style>\n",
       "  .colab-df-quickchart {\n",
       "      --bg-color: #E8F0FE;\n",
       "      --fill-color: #1967D2;\n",
       "      --hover-bg-color: #E2EBFA;\n",
       "      --hover-fill-color: #174EA6;\n",
       "      --disabled-fill-color: #AAA;\n",
       "      --disabled-bg-color: #DDD;\n",
       "  }\n",
       "\n",
       "  [theme=dark] .colab-df-quickchart {\n",
       "      --bg-color: #3B4455;\n",
       "      --fill-color: #D2E3FC;\n",
       "      --hover-bg-color: #434B5C;\n",
       "      --hover-fill-color: #FFFFFF;\n",
       "      --disabled-bg-color: #3B4455;\n",
       "      --disabled-fill-color: #666;\n",
       "  }\n",
       "\n",
       "  .colab-df-quickchart {\n",
       "    background-color: var(--bg-color);\n",
       "    border: none;\n",
       "    border-radius: 50%;\n",
       "    cursor: pointer;\n",
       "    display: none;\n",
       "    fill: var(--fill-color);\n",
       "    height: 32px;\n",
       "    padding: 0;\n",
       "    width: 32px;\n",
       "  }\n",
       "\n",
       "  .colab-df-quickchart:hover {\n",
       "    background-color: var(--hover-bg-color);\n",
       "    box-shadow: 0 1px 2px rgba(60, 64, 67, 0.3), 0 1px 3px 1px rgba(60, 64, 67, 0.15);\n",
       "    fill: var(--button-hover-fill-color);\n",
       "  }\n",
       "\n",
       "  .colab-df-quickchart-complete:disabled,\n",
       "  .colab-df-quickchart-complete:disabled:hover {\n",
       "    background-color: var(--disabled-bg-color);\n",
       "    fill: var(--disabled-fill-color);\n",
       "    box-shadow: none;\n",
       "  }\n",
       "\n",
       "  .colab-df-spinner {\n",
       "    border: 2px solid var(--fill-color);\n",
       "    border-color: transparent;\n",
       "    border-bottom-color: var(--fill-color);\n",
       "    animation:\n",
       "      spin 1s steps(1) infinite;\n",
       "  }\n",
       "\n",
       "  @keyframes spin {\n",
       "    0% {\n",
       "      border-color: transparent;\n",
       "      border-bottom-color: var(--fill-color);\n",
       "      border-left-color: var(--fill-color);\n",
       "    }\n",
       "    20% {\n",
       "      border-color: transparent;\n",
       "      border-left-color: var(--fill-color);\n",
       "      border-top-color: var(--fill-color);\n",
       "    }\n",
       "    30% {\n",
       "      border-color: transparent;\n",
       "      border-left-color: var(--fill-color);\n",
       "      border-top-color: var(--fill-color);\n",
       "      border-right-color: var(--fill-color);\n",
       "    }\n",
       "    40% {\n",
       "      border-color: transparent;\n",
       "      border-right-color: var(--fill-color);\n",
       "      border-top-color: var(--fill-color);\n",
       "    }\n",
       "    60% {\n",
       "      border-color: transparent;\n",
       "      border-right-color: var(--fill-color);\n",
       "    }\n",
       "    80% {\n",
       "      border-color: transparent;\n",
       "      border-right-color: var(--fill-color);\n",
       "      border-bottom-color: var(--fill-color);\n",
       "    }\n",
       "    90% {\n",
       "      border-color: transparent;\n",
       "      border-bottom-color: var(--fill-color);\n",
       "    }\n",
       "  }\n",
       "</style>\n",
       "\n",
       "      <script>\n",
       "        async function quickchart(key) {\n",
       "          const quickchartButtonEl =\n",
       "            document.querySelector('#' + key + ' button');\n",
       "          quickchartButtonEl.disabled = true;  // To prevent multiple clicks.\n",
       "          quickchartButtonEl.classList.add('colab-df-spinner');\n",
       "          try {\n",
       "            const charts = await google.colab.kernel.invokeFunction(\n",
       "                'suggestCharts', [key], {});\n",
       "          } catch (error) {\n",
       "            console.error('Error during call to suggestCharts:', error);\n",
       "          }\n",
       "          quickchartButtonEl.classList.remove('colab-df-spinner');\n",
       "          quickchartButtonEl.classList.add('colab-df-quickchart-complete');\n",
       "        }\n",
       "        (() => {\n",
       "          let quickchartButtonEl =\n",
       "            document.querySelector('#df-b5f3dd7f-671a-4c75-b586-9b74c4689109 button');\n",
       "          quickchartButtonEl.style.display =\n",
       "            google.colab.kernel.accessAllowed ? 'block' : 'none';\n",
       "        })();\n",
       "      </script>\n",
       "    </div>\n",
       "\n",
       "    </div>\n",
       "  </div>\n"
      ],
      "text/plain": [
       "                                                text  label  \\\n",
       "0  @user @user what do these '1/2 naked pics' hav...      1   \n",
       "1  OH: “I had a blue penis while I was this” [pla...      1   \n",
       "2  @user @user That's coming, but I think the vic...      1   \n",
       "3  I think I may be finally in with the in crowd ...      2   \n",
       "4  @user Wow,first Hugo Chavez and now Fidel Cast...      0   \n",
       "5  Savchenko now Saakashvili took drug test live ...      1   \n",
       "\n",
       "                                      processed_text  \n",
       "0  what these naked pics' have with anything? the...  \n",
       "1  blue penis while this” [playing with google ea...  \n",
       "2  that coming think victims going medicaid recip...  \n",
       "3  think finally with crowd mannequinchallenge gr...  \n",
       "4  ,first hugo chavez fidel castro. danny glover,...  \n",
       "5  savchenko saakashvili took drug test live ukra...  "
      ]
     },
     "execution_count": 31,
     "metadata": {},
     "output_type": "execute_result"
    }
   ],
   "source": [
    "df.head(6)"
   ]
  },
  {
   "cell_type": "markdown",
   "id": "LguBGWebENsY",
   "metadata": {
    "id": "LguBGWebENsY"
   },
   "source": [
    "### Load Pre-trained Sentiment Model from Hugging Face\n",
    "\n",
    "Model: cardiffnlp/twitter-roberta-base-sentiment-latest\n",
    "\n",
    "Task: Classify tweets into negative, neutral, or positive. Using Hugging Face pipeline for simplicity and reproducibility.\n"
   ]
  },
  {
   "cell_type": "code",
   "execution_count": 32,
   "id": "08c4150a",
   "metadata": {
    "colab": {
     "base_uri": "https://localhost:8080/",
     "height": 298,
     "referenced_widgets": [
      "78c9bf1cbd1b45fb9409a77573233bed",
      "c21f2ed6cc5d4cb3a0fb82f93ef6ca81",
      "5f392cd493504d9586dc542c6060d1b0",
      "119f4097ad13412ba2b2bffa7d1d5c07",
      "f150b9788f4c4f2f908195c8bda65483",
      "39b8f83a1ede4f79b88c0869c2f906e8",
      "858c8af85d7b4861a634ed1c2da6e9d1",
      "9c80f9cbcacb4aa9b75325d3f1d1b64d",
      "fbeaa8281db740119c0098b16ec0758a",
      "a12c7244eac84dbcaa42b675627460a5",
      "79bc62876c2840c4b4ebb30feefdbaad",
      "9717bcbd30754f0ebb44b87d965599a3",
      "ec0bef012d1347c8a3e7c302e30371ea",
      "48cff90567f741e287c6b1125ffc60df",
      "3c91313f121a49daa5464c0ad54a2082",
      "90d701052ecb4b3f85cca0bb0da12848",
      "8e30feee3a5c447aa8ee4c3b4035837d",
      "92770845064744dea3a7324c0c0aa20c",
      "9d8b308daa774ef7bd8ec49e93e2deba",
      "97db8a8db0a045d6a5f22e083d01c0cf",
      "52ad9213b16c43c2aaa414aa353951a9",
      "b058091ae2d641e9be50ffa08a9263a4",
      "c5a0975057554b29abe846705ba32362",
      "c6d474faf556494284d071a12ddd2ade",
      "6c12fb9b40a545dc88de5eb0d784c722",
      "8ed98bfaa819479a8e58aad1249464f4",
      "7cf7a3d54b894e8692c881cbadb424b4",
      "ed6415ae750b4e468ea82aac927c5f9a",
      "f7153ef9af004e55893e08649097b6e8",
      "685f96008192494393770c576073720d",
      "6c7ffd06b4cc45709e0f349ca7270445",
      "aa011fb2d11a4075ab67d982d53477d7",
      "56ac3a8c44cf4a33928075a0d8ce4f63",
      "077c6b3ca928490cb8fc7bb476a4e169",
      "169ba6cb67654f6db2701880afc3b909",
      "6889c4fff6834dd58beb17886606e4df",
      "a0a43637a42f4dee92ed924bc9a43f15",
      "b278adb4dbe1404fae140a3d994d3010",
      "91184f3cdf3c4c2b83261bd2357393bc",
      "8cfcad03f87d442fa6c309c34f1c7658",
      "bcf67570c0974807b45db67ff138e9d5",
      "f09dba3e13cd45729d253f70a92c41da",
      "8e749611ff374078bdd403f11dbded5c",
      "a1fc0939599346f593cadba5dd72e03c",
      "11ebb58c39574e488458dc32bca61d77",
      "9f2c68aaba9b4335bcee74c5edfdbb0d",
      "d2b5c31ba6ba4be6adf8fa7bf0e222bf",
      "c2822455f9704bf887280bb35d924ddc",
      "022860d89bc74235ad553c571a321e16",
      "5d842d625781410f951043d5cae2db6a",
      "c9d89f6ae8a442a78bc47e5d3ab8cab0",
      "ba558ef2feea4805a59d4a43e639e17d",
      "86753086b4924587bfc01883d53e1a64",
      "e45ce7a65c624dffaba58d864f20fb0e",
      "5057ecfdd73647c8bed6c202e29e735a",
      "8adf4138e81f41cf855c70bfbfd5dd6b",
      "95a6246330d340ddb11becced225ab2b",
      "9d4ad90f4bed48958ccbdb9b8a6279b0",
      "18c44033ba324f5495d52dddbce2eef0",
      "d28f095d37ba4ef68aad684ea89a6058",
      "9bb66ff73ff241cbbf73cd9b6f0072fe",
      "e8b7cec971cf42e1abb41226cc0a4571",
      "b80dbeddeb33417080ed22c93964c323",
      "9719dcb7845049a0a41a72832781861d",
      "4e5ffe13259b47adb82e548f1d6b648e",
      "98b5049efe3f458f98a543801a6f1d23"
     ]
    },
    "id": "08c4150a",
    "outputId": "f0276728-94e8-4688-83c5-4230617500b8"
   },
   "outputs": [
    {
     "data": {
      "application/vnd.jupyter.widget-view+json": {
       "model_id": "78c9bf1cbd1b45fb9409a77573233bed",
       "version_major": 2,
       "version_minor": 0
      },
      "text/plain": [
       "config.json:   0%|          | 0.00/929 [00:00<?, ?B/s]"
      ]
     },
     "metadata": {},
     "output_type": "display_data"
    },
    {
     "data": {
      "application/vnd.jupyter.widget-view+json": {
       "model_id": "9717bcbd30754f0ebb44b87d965599a3",
       "version_major": 2,
       "version_minor": 0
      },
      "text/plain": [
       "pytorch_model.bin:   0%|          | 0.00/501M [00:00<?, ?B/s]"
      ]
     },
     "metadata": {},
     "output_type": "display_data"
    },
    {
     "data": {
      "application/vnd.jupyter.widget-view+json": {
       "model_id": "c5a0975057554b29abe846705ba32362",
       "version_major": 2,
       "version_minor": 0
      },
      "text/plain": [
       "model.safetensors:   0%|          | 0.00/501M [00:00<?, ?B/s]"
      ]
     },
     "metadata": {},
     "output_type": "display_data"
    },
    {
     "name": "stderr",
     "output_type": "stream",
     "text": [
      "Some weights of the model checkpoint at cardiffnlp/twitter-roberta-base-sentiment-latest were not used when initializing RobertaForSequenceClassification: ['roberta.pooler.dense.bias', 'roberta.pooler.dense.weight']\n",
      "- This IS expected if you are initializing RobertaForSequenceClassification from the checkpoint of a model trained on another task or with another architecture (e.g. initializing a BertForSequenceClassification model from a BertForPreTraining model).\n",
      "- This IS NOT expected if you are initializing RobertaForSequenceClassification from the checkpoint of a model that you expect to be exactly identical (initializing a BertForSequenceClassification model from a BertForSequenceClassification model).\n"
     ]
    },
    {
     "data": {
      "application/vnd.jupyter.widget-view+json": {
       "model_id": "077c6b3ca928490cb8fc7bb476a4e169",
       "version_major": 2,
       "version_minor": 0
      },
      "text/plain": [
       "vocab.json: 0.00B [00:00, ?B/s]"
      ]
     },
     "metadata": {},
     "output_type": "display_data"
    },
    {
     "data": {
      "application/vnd.jupyter.widget-view+json": {
       "model_id": "11ebb58c39574e488458dc32bca61d77",
       "version_major": 2,
       "version_minor": 0
      },
      "text/plain": [
       "merges.txt: 0.00B [00:00, ?B/s]"
      ]
     },
     "metadata": {},
     "output_type": "display_data"
    },
    {
     "data": {
      "application/vnd.jupyter.widget-view+json": {
       "model_id": "8adf4138e81f41cf855c70bfbfd5dd6b",
       "version_major": 2,
       "version_minor": 0
      },
      "text/plain": [
       "special_tokens_map.json:   0%|          | 0.00/239 [00:00<?, ?B/s]"
      ]
     },
     "metadata": {},
     "output_type": "display_data"
    },
    {
     "name": "stderr",
     "output_type": "stream",
     "text": [
      "Device set to use cpu\n"
     ]
    }
   ],
   "source": [
    "model_name = \"cardiffnlp/twitter-roberta-base-sentiment-latest\"\n",
    "sentiment_pipeline = pipeline(\"sentiment-analysis\", model=model_name, tokenizer=model_name)"
   ]
  },
  {
   "cell_type": "code",
   "execution_count": 33,
   "id": "t7bSieDiZjH9",
   "metadata": {
    "colab": {
     "base_uri": "https://localhost:8080/"
    },
    "id": "t7bSieDiZjH9",
    "outputId": "6b66cc74-2491-432b-dfc3-a8e4916b2e55"
   },
   "outputs": [
    {
     "data": {
      "text/plain": [
       "[{'label': 'neutral', 'score': 0.8653272390365601},\n",
       " {'label': 'positive', 'score': 0.9465563893318176}]"
      ]
     },
     "execution_count": 33,
     "metadata": {},
     "output_type": "execute_result"
    }
   ],
   "source": [
    "label = sentiment_pipeline(['kiya tho refresh maarkefir comment karo', 'You\\'re handsome'])\n",
    "label"
   ]
  },
  {
   "cell_type": "markdown",
   "id": "zXRAnj76aGSt",
   "metadata": {
    "id": "zXRAnj76aGSt"
   },
   "source": [
    "### Predict Sentiment in Batches\n",
    "\n",
    "For computational efficiency, texts are processed in batches.\n",
    "Predictions are added to the dataframe as 'roberta_pred'.\n"
   ]
  },
  {
   "cell_type": "code",
   "execution_count": 34,
   "id": "mWdZJnIIdAbd",
   "metadata": {
    "id": "mWdZJnIIdAbd"
   },
   "outputs": [],
   "source": [
    "df['mapped_labels'] = df['label'].replace({0: 'negative', 1: 'neutral', 2: 'positive'})"
   ]
  },
  {
   "cell_type": "code",
   "execution_count": 35,
   "id": "3tRaW9gtdJQM",
   "metadata": {
    "colab": {
     "base_uri": "https://localhost:8080/",
     "height": 210
    },
    "id": "3tRaW9gtdJQM",
    "outputId": "5709efea-127f-4f11-f243-da0eb5a498a8"
   },
   "outputs": [
    {
     "data": {
      "text/html": [
       "<div>\n",
       "<style scoped>\n",
       "    .dataframe tbody tr th:only-of-type {\n",
       "        vertical-align: middle;\n",
       "    }\n",
       "\n",
       "    .dataframe tbody tr th {\n",
       "        vertical-align: top;\n",
       "    }\n",
       "\n",
       "    .dataframe thead th {\n",
       "        text-align: right;\n",
       "    }\n",
       "</style>\n",
       "<table border=\"1\" class=\"dataframe\">\n",
       "  <thead>\n",
       "    <tr style=\"text-align: right;\">\n",
       "      <th></th>\n",
       "      <th>0</th>\n",
       "    </tr>\n",
       "  </thead>\n",
       "  <tbody>\n",
       "    <tr>\n",
       "      <th>text</th>\n",
       "      <td>0</td>\n",
       "    </tr>\n",
       "    <tr>\n",
       "      <th>label</th>\n",
       "      <td>0</td>\n",
       "    </tr>\n",
       "    <tr>\n",
       "      <th>processed_text</th>\n",
       "      <td>0</td>\n",
       "    </tr>\n",
       "    <tr>\n",
       "      <th>mapped_labels</th>\n",
       "      <td>0</td>\n",
       "    </tr>\n",
       "  </tbody>\n",
       "</table>\n",
       "</div><br><label><b>dtype:</b> int64</label>"
      ],
      "text/plain": [
       "text              0\n",
       "label             0\n",
       "processed_text    0\n",
       "mapped_labels     0\n",
       "dtype: int64"
      ]
     },
     "execution_count": 35,
     "metadata": {},
     "output_type": "execute_result"
    }
   ],
   "source": [
    "df.isna().sum()"
   ]
  },
  {
   "cell_type": "code",
   "execution_count": 36,
   "id": "jgDzgZWQdMCE",
   "metadata": {
    "id": "jgDzgZWQdMCE"
   },
   "outputs": [],
   "source": [
    "# Drop rows with missing values\n",
    "df.dropna(subset=['text', 'label'], inplace=True)"
   ]
  },
  {
   "cell_type": "code",
   "execution_count": 37,
   "id": "BkhrC2kGdT2l",
   "metadata": {
    "colab": {
     "base_uri": "https://localhost:8080/"
    },
    "id": "BkhrC2kGdT2l",
    "outputId": "51a1823d-4964-406b-e71e-f9e5282c935b"
   },
   "outputs": [
    {
     "name": "stdout",
     "output_type": "stream",
     "text": [
      "label\n",
      "1    5937\n",
      "0    3972\n",
      "2    2375\n",
      "Name: count, dtype: int64\n"
     ]
    }
   ],
   "source": [
    "# Display some stats\n",
    "print(df['label'].value_counts())"
   ]
  },
  {
   "cell_type": "code",
   "execution_count": 38,
   "id": "QlikmFdQdZ-t",
   "metadata": {
    "colab": {
     "base_uri": "https://localhost:8080/",
     "height": 564
    },
    "id": "QlikmFdQdZ-t",
    "outputId": "900c1234-7f2d-4182-bc34-4e4bf7778a84"
   },
   "outputs": [
    {
     "data": {
      "image/png": "[encoded data removed]",
      "text/plain": [
       "<Figure size 1000x600 with 1 Axes>"
      ]
     },
     "metadata": {},
     "output_type": "display_data"
    }
   ],
   "source": [
    "dist = df['mapped_labels'].value_counts()\n",
    "def distribution_plot(x, y, name):\n",
    "    \"\"\"\n",
    "    Plot a bar chart to visualize the distribution of sentiment classes.\n",
    "\n",
    "    Args:\n",
    "        x (list or pd.Index): List of sentiment class names (e.g., negative, neutral, positive).\n",
    "        y (list or np.ndarray): Frequency counts corresponding to each class.\n",
    "        name (str): Title of the plot.\n",
    "\n",
    "    Returns:\n",
    "        None\n",
    "    \"\"\"\n",
    "    plt.figure(figsize=(10, 6))\n",
    "    sns.barplot(x=x, y=y)\n",
    "    plt.title(name)\n",
    "    plt.show()\n",
    "\n",
    "distribution_plot(x=dist.index, y=dist.values, name='Class Distribution train')"
   ]
  },
  {
   "cell_type": "code",
   "execution_count": 39,
   "id": "G8Lt2EQpbDUc",
   "metadata": {
    "id": "G8Lt2EQpbDUc"
   },
   "outputs": [],
   "source": [
    "def predict_sentiment_batch(df, text_column=\"processed_text\", batch_size=32):\n",
    "    \"\"\"\n",
    "    Perform sentiment prediction on a dataset in mini-batches using a Hugging Face pipeline.\n",
    "\n",
    "    Args:\n",
    "        df (pd.DataFrame): Input DataFrame containing text data.\n",
    "        text_column (str, optional): Name of the column containing preprocessed text. Defaults to \"processed_text\".\n",
    "        batch_size (int, optional): Number of samples per batch for prediction. Defaults to 32.\n",
    "\n",
    "    Returns:\n",
    "        list: List of predicted sentiment labels for each text (e.g., 'negative', 'neutral', 'positive').\n",
    "    \"\"\"\n",
    "    results = []\n",
    "    for i in tqdm(range(0, len(df), batch_size)):\n",
    "        batch_texts = df[text_column].iloc[i:i+batch_size].tolist()\n",
    "        preds = sentiment_pipeline(batch_texts)\n",
    "        results.extend([p['label'] for p in preds])\n",
    "    return results\n"
   ]
  },
  {
   "cell_type": "code",
   "execution_count": 42,
   "id": "6xiLh-hxJLWS",
   "metadata": {
    "colab": {
     "base_uri": "https://localhost:8080/"
    },
    "id": "6xiLh-hxJLWS",
    "outputId": "81f036a9-ae0b-4797-d4d4-d1e1291471aa"
   },
   "outputs": [
    {
     "name": "stderr",
     "output_type": "stream",
     "text": [
      "100%|██████████| 384/384 [25:23<00:00,  3.97s/it]\n"
     ]
    }
   ],
   "source": [
    "df[\"roberta_pred\"] = predict_sentiment_batch(df)"
   ]
  },
  {
   "cell_type": "markdown",
   "id": "Q5K30dnaEkQB",
   "metadata": {
    "id": "Q5K30dnaEkQB"
   },
   "source": [
    "### Model Evaluation\n",
    "\n",
    "- Generates a classification report (Precision, Recall, F1)\n",
    "- Displays confusion matrix for performance visualization\n"
   ]
  },
  {
   "cell_type": "code",
   "execution_count": 43,
   "id": "DCal_m2De3BU",
   "metadata": {
    "colab": {
     "base_uri": "https://localhost:8080/",
     "height": 685
    },
    "id": "DCal_m2De3BU",
    "outputId": "80b5d8b9-6dc6-4d09-c8ed-3841340ce198"
   },
   "outputs": [
    {
     "name": "stdout",
     "output_type": "stream",
     "text": [
      "\n",
      "📊 Report di classificazione:\n",
      "              precision    recall  f1-score   support\n",
      "\n",
      "    negative       0.68      0.71      0.70      3972\n",
      "     neutral       0.68      0.73      0.70      5937\n",
      "    positive       0.74      0.54      0.63      2375\n",
      "\n",
      "    accuracy                           0.69     12284\n",
      "   macro avg       0.70      0.66      0.68     12284\n",
      "weighted avg       0.69      0.69      0.69     12284\n",
      "\n"
     ]
    },
    {
     "data": {
      "image/png": "[encoded data removed]",
      "text/plain": [
       "<Figure size 640x480 with 2 Axes>"
      ]
     },
     "metadata": {},
     "output_type": "display_data"
    }
   ],
   "source": [
    "from sklearn.metrics import classification_report, confusion_matrix\n",
    "\n",
    "print(\"\\n📊 Report di classificazione:\")\n",
    "print(classification_report(df[\"mapped_labels\"], df[\"roberta_pred\"], zero_division=0))\n",
    "\n",
    "cm = confusion_matrix(df[\"mapped_labels\"], df[\"roberta_pred\"], labels=[\"negative\", \"neutral\", \"positive\"])\n",
    "sns.heatmap(cm, annot=True, fmt=\"d\", cmap=\"Blues\", xticklabels=[\"neg\",\"neu\",\"pos\"], yticklabels=[\"neg\",\"neu\",\"pos\"])\n",
    "plt.title(\"Confusion Matrix\", fontsize=14)\n",
    "plt.xlabel(\"Predicted\", fontsize=12)\n",
    "plt.ylabel(\"True\", fontsize=12)\n",
    "plt.show()\n"
   ]
  },
  {
   "cell_type": "markdown",
   "id": "5nJVUs_-EpJ5",
   "metadata": {
    "id": "5nJVUs_-EpJ5"
   },
   "source": [
    "### Error Analysis\n",
    "\n",
    "Shows random examples where model predictions differ\n",
    "from the true (mapped) labels to understand failure patterns.\n"
   ]
  },
  {
   "cell_type": "code",
   "execution_count": 44,
   "id": "xgG3rOAefTV0",
   "metadata": {
    "colab": {
     "base_uri": "https://localhost:8080/"
    },
    "id": "xgG3rOAefTV0",
    "outputId": "6ee1932c-491f-4c8e-fb75-bfcc1e64e61f"
   },
   "outputs": [
    {
     "name": "stdout",
     "output_type": "stream",
     "text": [
      "                                          processed_text mapped_labels  \\\n",
      "214    signed agreement with bank palestine scale len...      positive   \n",
      "1916   saakashvili hijacking rukh brand will leave ta...      negative   \n",
      "2065   -right movement goes full nazi steve bannon pr...      negative   \n",
      "11916  youre full yourself know never received threat...      negative   \n",
      "320                         good watch thisisus insecure      positive   \n",
      "\n",
      "      roberta_pred  \n",
      "214        neutral  \n",
      "1916       neutral  \n",
      "2065       neutral  \n",
      "11916      neutral  \n",
      "320       negative  \n"
     ]
    }
   ],
   "source": [
    "errors = df[df[\"mapped_labels\"] != df[\"roberta_pred\"]]\n",
    "print(errors.sample(5)[[\"processed_text\", \"mapped_labels\", \"roberta_pred\"]])\n"
   ]
  },
  {
   "cell_type": "markdown",
   "id": "7ejQ-TuxEwXq",
   "metadata": {
    "id": "7ejQ-TuxEwXq"
   },
   "source": [
    "### Insights Summary\n",
    "\n",
    "- The pre-trained RoBERTa model performs reasonably well on unseen tweets.\n",
    "- Most misclassifications occur between \"neutral\" and \"positive\" tweets, likely due to subtle language or sarcasm.\n",
    "- The model is ready to be integrated into the MLOps pipeline (Phase 2) for CI/CD automation.\n"
   ]
  }
 ],
 "metadata": {
  "accelerator": "GPU",
  "colab": {
   "gpuType": "T4",
   "provenance": []
  },
  "kernelspec": {
   "display_name": "Python (sentiment_env)",
   "language": "python",
   "name": "sentiment_env"
  },
  "language_info": {
   "codemirror_mode": {
    "name": "ipython",
    "version": 3
   },
   "file_extension": ".py",
   "mimetype": "text/x-python",
   "name": "python",
   "nbconvert_exporter": "python",
   "pygments_lexer": "ipython3",
   "version": "3.12.1"
  }
 },
 "nbformat": 4,
 "nbformat_minor": 5
}
