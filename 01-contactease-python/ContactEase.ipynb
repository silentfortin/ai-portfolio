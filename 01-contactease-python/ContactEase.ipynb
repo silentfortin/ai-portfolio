{
  "nbformat": 4,
  "nbformat_minor": 0,
  "metadata": {
    "colab": {
      "provenance": [],
      "authorship_tag": "ABX9TyPk/VLqqdd7Dx2F2vHw7cTJ",
      "include_colab_link": true
    },
    "kernelspec": {
      "name": "python3",
      "display_name": "Python 3"
    },
    "language_info": {
      "name": "python"
    }
  },
  "cells": [
    {
      "cell_type": "markdown",
      "metadata": {
        "id": "view-in-github",
        "colab_type": "text"
      },
      "source": [
        "<a href=\"https://colab.research.google.com/github/silentfortin/ai-portfolio/blob/main/01-contactease-python/ContactEase.ipynb\" target=\"_parent\"><img src=\"https://colab.research.google.com/assets/colab-badge.svg\" alt=\"Open In Colab\"/></a>"
      ]
    },
    {
      "cell_type": "markdown",
      "source": [],
      "metadata": {
        "id": "nF-dwHvmecsZ"
      }
    },
    {
      "cell_type": "markdown",
      "source": [
        "ContactEase – Contact Manager in Python\n",
        "👨‍💻 Project developed during the AI Engineering Master – Week 1\n",
        "\n",
        "🔗 GitHub Repo: [ai-portfolio](https://github.com/silentfortin/ai-portfolio/)\n"
      ],
      "metadata": {
        "id": "qdjjjO2wed3Q"
      }
    },
    {
      "cell_type": "code",
      "source": [],
      "metadata": {
        "id": "0pvjtNopeoMh"
      },
      "execution_count": null,
      "outputs": []
    }
  ]
}