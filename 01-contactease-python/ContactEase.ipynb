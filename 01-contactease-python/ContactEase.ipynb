{
  "nbformat": 4,
  "nbformat_minor": 0,
  "metadata": {
    "colab": {
      "provenance": [],
      "authorship_tag": "ABX9TyNeqgce4OOhheQVCOTvmbGV",
      "include_colab_link": true
    },
    "kernelspec": {
      "name": "python3",
      "display_name": "Python 3"
    },
    "language_info": {
      "name": "python"
    }
  },
  "cells": [
    {
      "cell_type": "markdown",
      "metadata": {
        "id": "view-in-github",
        "colab_type": "text"
      },
      "source": [
        "<a href=\"https://colab.research.google.com/github/silentfortin/ai-portfolio/blob/main/01-contactease-python/ContactEase.ipynb\" target=\"_parent\"><img src=\"https://colab.research.google.com/assets/colab-badge.svg\" alt=\"Open In Colab\"/></a>"
      ]
    },
    {
      "cell_type": "markdown",
      "source": [],
      "metadata": {
        "id": "nF-dwHvmecsZ"
      }
    },
    {
      "cell_type": "markdown",
      "source": [
        "ContactEase – Contact Manager in Python\n",
        "👨‍💻 Project developed during the AI Engineering Master – Week 1\n",
        "\n",
        "🔗 GitHub Repo: [ai-portfolio](https://github.com/silentfortin/ai-portfolio/)\n"
      ],
      "metadata": {
        "id": "qdjjjO2wed3Q"
      }
    },
    {
      "cell_type": "code",
      "source": [
        "!pip install questionary"
      ],
      "metadata": {
        "colab": {
          "base_uri": "https://localhost:8080/"
        },
        "id": "V7lqLBrMpu2z",
        "outputId": "2e801a97-4b42-4fe7-fb3b-2e6e3a623e2d"
      },
      "execution_count": 5,
      "outputs": [
        {
          "output_type": "stream",
          "name": "stdout",
          "text": [
            "Collecting questionary\n",
            "  Downloading questionary-2.1.0-py3-none-any.whl.metadata (5.4 kB)\n",
            "Requirement already satisfied: prompt_toolkit<4.0,>=2.0 in /usr/local/lib/python3.11/dist-packages (from questionary) (3.0.51)\n",
            "Requirement already satisfied: wcwidth in /usr/local/lib/python3.11/dist-packages (from prompt_toolkit<4.0,>=2.0->questionary) (0.2.13)\n",
            "Downloading questionary-2.1.0-py3-none-any.whl (36 kB)\n",
            "Installing collected packages: questionary\n",
            "Successfully installed questionary-2.1.0\n"
          ]
        }
      ]
    },
    {
      "cell_type": "code",
      "source": [
        "import sys\n",
        "import time\n",
        "import uuid\n",
        "import json\n",
        "import questionary\n",
        "\n",
        "\n",
        "from json.decoder import JSONDecodeError"
      ],
      "metadata": {
        "id": "fo2rJF82-xbR"
      },
      "execution_count": 66,
      "outputs": []
    },
    {
      "cell_type": "code",
      "source": [
        "# ANSI color codes\n",
        "RED = \"\\033[91m\"\n",
        "GREEN = \"\\033[92m\"\n",
        "YELLOW = \"\\033[93m\"\n",
        "CYAN = \"\\033[96m\"\n",
        "RESET = \"\\033[0m\""
      ],
      "metadata": {
        "id": "GoAMphoRwqL-"
      },
      "execution_count": 67,
      "outputs": []
    },
    {
      "cell_type": "code",
      "source": [
        "# Class representing a User with name and surname\n",
        "class User:\n",
        "  # Constructor to initialize name and surname\n",
        "  def __init__(self, name, surname):\n",
        "    self.name = name\n",
        "    self.surname = surname\n",
        "\n",
        "class Contact:\n",
        "    def __init__(self, name, surname, phone_number):\n",
        "        self.id = str(uuid.uuid4())\n",
        "        self.name = name\n",
        "        self.surname = surname\n",
        "        self.phone = phone_number\n",
        "\n",
        "    def __str__(self):\n",
        "        return f'{GREEN}Full name: {self.name} {self.surname} \\| Phone: {self.phone}{RESET}'\n",
        "\n",
        "class ContactsBook:\n",
        "\n",
        "  def __init__(self):\n",
        "    self.contacts = []\n",
        "\n",
        "  def add_contact(self, contact):\n",
        "      self.contacts.append(contact)\n",
        "      self.save_to_file()\n",
        "      print(f'{GREEN}{contact.name} {contact.surname} has been added.\\n')\n",
        "\n",
        "\n",
        "  def show_all_contacts(self):\n",
        "    if len(self.contacts) != 0:\n",
        "      print(f'\\n{CYAN}Your contacts: {RESET}')\n",
        "      for contact in self.contacts:\n",
        "          print(f\"{contact.name} {contact.surname} | Tel: {contact.phone}\")\n",
        "    else:\n",
        "      print(f'{YELLOW} Your contacts book is empty.\\n{RESET}')\n",
        "\n",
        "  def edit_contact(self, contact, mod, updated_var):\n",
        "      \"\"\"\n",
        "      User will insert 'mod' which is the element that wants to modify and then\n",
        "      the new value 'updated_var'. When the case match, the var is modified and\n",
        "      the file pudated\n",
        "      \"\"\"\n",
        "      match mod:\n",
        "        case 'n':\n",
        "          contact.name = updated_var\n",
        "          print(f'{GREEN}Contact name has been modified.\\n')\n",
        "        case 's':\n",
        "          contact.surname = updated_var\n",
        "          print(f'{GREEN}Contact surname has been modified.\\n')\n",
        "        case 'p':\n",
        "          contact.phone = updated_var\n",
        "          print(f'{GREEN}Contact phone number has been modified.\\n')\n",
        "        case _:\n",
        "            print(f'{RED}ERROR: {contact.name} {contact.surname} has not been modified.\\n')\n",
        "            return\n",
        "\n",
        "      self.save_to_file()\n",
        "\n",
        "  def remove_contact(self, contact_to_remove):\n",
        "      for contact in self.contacts:\n",
        "          if contact.id == contact_to_remove.id:\n",
        "              self.contacts.remove(contact)\n",
        "              # saving\n",
        "              self.save_to_file()\n",
        "              print(f\"{YELLOW}Contact {contact.name} {contact.surname} removed.{RESET}\")\n",
        "              return\n",
        "      print(\"Contact not found.\")\n",
        "\n",
        "  def search_contact(self, name, surname):\n",
        "    name = name.strip().lower()\n",
        "    surname = surname.strip().lower()\n",
        "\n",
        "    for contact in self.contacts:\n",
        "      if contact.name.lower() == name and contact.surname.lower() == surname:\n",
        "        return contact\n",
        "    return None\n",
        "\n",
        "  def save_to_file(self, filename=\"contacts_book.json\"):\n",
        "      try:\n",
        "        with open(filename, \"w\") as f:\n",
        "          # Convert each Contact object to a dictionary\n",
        "          data = [vars(c) for c in self.contacts]\n",
        "            # Save the list of contacts as JSON with indentation\n",
        "          json.dump(data, f, indent=2)\n",
        "      except JSONDecodeError as e:\n",
        "          print(f'Error: Failed to encode contacts to JSON. Details: {e}')\n",
        "      except Exception as e:\n",
        "          print(f'Unexpected error while saving contacts: {e}')\n",
        "\n",
        "  def load_from_file(self, filename=\"contacts_book.json\"):\n",
        "      try:\n",
        "        with open(filename, \"r\") as file:\n",
        "          # Load list of dictionaries from JSON\n",
        "          data = json.load(file)\n",
        "          # Recreate Contact objects from dictionaries (that's why I'm using **c)\n",
        "          self.contacts = [Contact(**c) for c in data]\n",
        "      except FileNotFoundError:\n",
        "          print(f'Warning: File \"{filename}\" not found. Starting with an empty contact list.')\n",
        "          self.contacts = []\n",
        "      except JSONDecodeError as e:\n",
        "          print(f'Warning: File contains invalid JSON. Details: {e}')\n",
        "          self.contacts = []\n",
        "      except Exception as e:\n",
        "          print(f'Unexpected error while loading contacts: {e}')\n",
        "          self.contacts = []\n"
      ],
      "metadata": {
        "id": "0pvjtNopeoMh"
      },
      "execution_count": 97,
      "outputs": []
    },
    {
      "cell_type": "code",
      "source": [
        "# helper function(s)\n",
        "def edit_contact_helper(book):\n",
        "    possible_choices = ['n', 'p', 's']\n",
        "\n",
        "    print(f'{YELLOW}Insert the name and the surname of the contact that you want to edit.{RESET}')\n",
        "    name = input('\\nInsert contact name: ').strip()\n",
        "    surname = input('Insert contact surname: ').strip()\n",
        "    contact_to_edit = book.search_contact(name, surname)\n",
        "\n",
        "    if not contact_to_edit:\n",
        "        print(f'{RED}Contact not found.{RESET}')\n",
        "        return\n",
        "\n",
        "    while True:\n",
        "        edit_choice = input(\n",
        "            '\\nPress [N] to edit the name\\nPress [S] to edit the surname\\nPress [P] to edit the phone number\\n'\n",
        "        ).strip().lower()\n",
        "        if edit_choice in possible_choices:\n",
        "            break\n",
        "        else:\n",
        "            print(f'{RED}Invalid value. Please enter N, S, or P.{RESET}')\n",
        "\n",
        "    new_value = input('Insert the new value: ').strip()\n",
        "    book.edit_contact(contact_to_edit, edit_choice, new_value)\n"
      ],
      "metadata": {
        "id": "Eo_X8yANL7zB"
      },
      "execution_count": 98,
      "outputs": []
    },
    {
      "cell_type": "markdown",
      "source": [
        "### CLI"
      ],
      "metadata": {
        "id": "XhOKfgE4oWHI"
      }
    },
    {
      "cell_type": "code",
      "source": [
        "book = ContactsBook()\n",
        "# book.load_from_file()  # Load or create new file if not found\n",
        "\n",
        "def main_menu():\n",
        "    while True:\n",
        "        print(f'\\n{CYAN}=== Contact Book ==={RESET}')\n",
        "        print(f'{GREEN}1. Add contact{RESET}')\n",
        "        print(f'{GREEN}2. Show contacts{RESET}')\n",
        "        print(f'{GREEN}3. Modify contact{RESET}')\n",
        "        print(f'{GREEN}4. Remove contact{RESET}')\n",
        "        print(f'{GREEN}5. Search contact{RESET}')\n",
        "        print(f'{RED}6. Exit{RESET}')\n",
        "\n",
        "        choice = input(f'Choose an option (1-6): ')\n",
        "\n",
        "        if choice == '1':\n",
        "            name = input('\\nInsert contact name: ')\n",
        "            surname = input('Insert contact surname: ')\n",
        "            phone = input('Insert phone number: ')\n",
        "\n",
        "            new_contact = Contact(name, surname, phone)\n",
        "            # checking if contact already exists before adding\n",
        "            check_duplicate = book.search_contact(new_contact.name, new_contact.surname)\n",
        "\n",
        "            if check_duplicate == None:\n",
        "              added = book.add_contact(new_contact)\n",
        "            else:\n",
        "              print(f'{YELLOW}The contact {new_contact.name} {new_contact.surname} already exists. Do you want to add it anyways?{RESET}')\n",
        "              add_choice = input(f'Select [Y] or [X]: ')\n",
        "              if add_choice.lower() == 'y':\n",
        "                added = book.add_contact(new_contact)\n",
        "              else:\n",
        "                print(f'{YELLOW}The contact has not been added.\\n{RESET}')\n",
        "\n",
        "        elif choice == '2':\n",
        "            book.show_all_contacts()\n",
        "\n",
        "        elif choice == '3':\n",
        "          edit_contact_helper(book)\n",
        "\n",
        "        elif choice == '4':\n",
        "          name = input('\\nInsert contact name: ')\n",
        "          surname = input('Insert contact surname: ')\n",
        "\n",
        "          contact_to_remove = book.search_contact(name, surname)\n",
        "          book.remove_contact(contact_to_remove)\n",
        "\n",
        "        elif choice == '5':\n",
        "          name = input('\\nInsert contact name: ')\n",
        "          surname = input('Insert contact surname: ')\n",
        "\n",
        "          contact = book.search_contact(name, surname)\n",
        "          if contact:\n",
        "              print(contact)\n",
        "          else:\n",
        "              print(f'{YELLOW}Contact not found.{RESET}')\n",
        "\n",
        "        elif choice == '6':\n",
        "            print(f'{RED}Exiting...{RESET}')\n",
        "            break\n",
        "\n",
        "        else:\n",
        "            print(f'{RED}Invalid choice. Try again.{RESET}')\n"
      ],
      "metadata": {
        "id": "relaoJHjoVCj"
      },
      "execution_count": 100,
      "outputs": []
    },
    {
      "cell_type": "code",
      "source": [
        "if __name__ == \"__main__\":\n",
        "    main_menu()"
      ],
      "metadata": {
        "colab": {
          "base_uri": "https://localhost:8080/"
        },
        "id": "O03Z3jFity9M",
        "outputId": "6360797c-522e-4c5c-9760-13733d4496b7"
      },
      "execution_count": 96,
      "outputs": [
        {
          "output_type": "stream",
          "name": "stdout",
          "text": [
            "\n",
            "\u001b[96m=== Contact Book ===\u001b[0m\n",
            "\u001b[92m1. Add contact\u001b[0m\n",
            "\u001b[92m2. Show contacts\u001b[0m\n",
            "\u001b[92m3. Modify contact\u001b[0m\n",
            "\u001b[92m4. Remove contact\u001b[0m\n",
            "\u001b[92m5. Search contact\u001b[0m\n",
            "\u001b[91m6. Exit\u001b[0m\n",
            "Choose an option (1-6): 1\n",
            "\n",
            "Insert contact name: a\n",
            "Insert contact surname: b\n",
            "Insert phone number: 312\n",
            "\u001b[92ma b has been added.\n",
            "\n",
            "\n",
            "\u001b[96m=== Contact Book ===\u001b[0m\n",
            "\u001b[92m1. Add contact\u001b[0m\n",
            "\u001b[92m2. Show contacts\u001b[0m\n",
            "\u001b[92m3. Modify contact\u001b[0m\n",
            "\u001b[92m4. Remove contact\u001b[0m\n",
            "\u001b[92m5. Search contact\u001b[0m\n",
            "\u001b[91m6. Exit\u001b[0m\n",
            "Choose an option (1-6): 3\n",
            "\u001b[93mInsert the name and the surname of the contact that you want to edit.\u001b[0m\n",
            "\n",
            "Insert contact name: a\n",
            "Insert contact surname: b\n",
            "\n",
            "Press [N] to edit the name\n",
            "Press [S] to edit the surnamename\n",
            "Press [P] to edit the phone number\n",
            "j\n",
            "\u001b[91mInvalid value. Please try again.\u001b[0m\n"
          ]
        }
      ]
    },
    {
      "cell_type": "code",
      "source": [
        "help(questionary.text)"
      ],
      "metadata": {
        "colab": {
          "base_uri": "https://localhost:8080/"
        },
        "id": "VmmizG4Q4QfO",
        "outputId": "57a286c9-5710-4103-c46a-da4f11c29997"
      },
      "execution_count": 12,
      "outputs": [
        {
          "output_type": "stream",
          "name": "stdout",
          "text": [
            "Help on function text in module questionary.prompts.text:\n",
            "\n",
            "text(message: str, default: str = '', validate: Any = None, qmark: str = '?', style: Optional[prompt_toolkit.styles.style.Style] = None, multiline: bool = False, instruction: Optional[str] = None, lexer: Optional[prompt_toolkit.lexers.base.Lexer] = None, **kwargs: Any) -> questionary.question.Question\n",
            "    Prompt the user to enter a free text message.\n",
            "    \n",
            "    This question type can be used to prompt the user for some text input.\n",
            "    \n",
            "    Example:\n",
            "        >>> import questionary\n",
            "        >>> questionary.text(\"What's your first name?\").ask()\n",
            "        ? What's your first name? Tom\n",
            "        'Tom'\n",
            "    \n",
            "    .. image:: ../images/text.gif\n",
            "    \n",
            "    This is just a really basic example, the prompt can be customised using the\n",
            "    parameters.\n",
            "    \n",
            "    Args:\n",
            "        message: Question text.\n",
            "    \n",
            "        default: Default value will be returned if the user just hits\n",
            "                 enter.\n",
            "    \n",
            "        validate: Require the entered value to pass a validation. The\n",
            "                  value can not be submitted until the validator accepts\n",
            "                  it (e.g. to check minimum password length).\n",
            "    \n",
            "                  This can either be a function accepting the input and\n",
            "                  returning a boolean, or an class reference to a\n",
            "                  subclass of the prompt toolkit Validator class.\n",
            "    \n",
            "        qmark: Question prefix displayed in front of the question.\n",
            "               By default this is a ``?``.\n",
            "    \n",
            "        style: A custom color and style for the question parts. You can\n",
            "               configure colors as well as font types for different elements.\n",
            "    \n",
            "        multiline: If ``True``, multiline input will be enabled.\n",
            "    \n",
            "        instruction: Write instructions for the user if needed. If ``None``\n",
            "                     and ``multiline=True``, some instructions will appear.\n",
            "    \n",
            "        lexer: Supply a valid lexer to style the answer. Leave empty to\n",
            "               use a simple one by default.\n",
            "    \n",
            "        kwargs: Additional arguments, they will be passed to prompt toolkit.\n",
            "    \n",
            "    Returns:\n",
            "        :class:`Question`: Question instance, ready to be prompted (using ``.ask()``).\n",
            "\n"
          ]
        }
      ]
    }
  ]
}