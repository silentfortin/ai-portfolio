{
  "nbformat": 4,
  "nbformat_minor": 0,
  "metadata": {
    "colab": {
      "provenance": [],
      "authorship_tag": "ABX9TyNeEQyIitXtQ8oEhLE78pPq",
      "include_colab_link": true
    },
    "kernelspec": {
      "name": "python3",
      "display_name": "Python 3"
    },
    "language_info": {
      "name": "python"
    }
  },
  "cells": [
    {
      "cell_type": "markdown",
      "metadata": {
        "id": "view-in-github",
        "colab_type": "text"
      },
      "source": [
        "<a href=\"https://colab.research.google.com/github/silentfortin/ai-portfolio/blob/main/01-contactease-python/ContactEase.ipynb\" target=\"_parent\"><img src=\"https://colab.research.google.com/assets/colab-badge.svg\" alt=\"Open In Colab\"/></a>"
      ]
    },
    {
      "cell_type": "markdown",
      "source": [],
      "metadata": {
        "id": "nF-dwHvmecsZ"
      }
    },
    {
      "cell_type": "markdown",
      "source": [
        "ContactEase – Contact Manager in Python\n",
        "👨‍💻 Project developed during the AI Engineering Master – Week 1\n",
        "\n",
        "🔗 GitHub Repo: [ai-portfolio](https://github.com/silentfortin/ai-portfolio/)\n"
      ],
      "metadata": {
        "id": "qdjjjO2wed3Q"
      }
    },
    {
      "cell_type": "code",
      "source": [
        "import uuid\n",
        "import json\n",
        "\n",
        "from json.decoder import JSONDecodeError"
      ],
      "metadata": {
        "id": "fo2rJF82-xbR"
      },
      "execution_count": null,
      "outputs": []
    },
    {
      "cell_type": "code",
      "source": [
        "# Class representing a User with name and surname\n",
        "class User:\n",
        "  # Constructor to initialize name and surname\n",
        "  def __init__(self, name, surname):\n",
        "    self.name = name\n",
        "    self.surname = surname\n",
        "\n",
        "class ContactsBook:\n",
        "\n",
        "  def __init__(self):\n",
        "    self.contacts = []\n",
        "\n",
        "  def add_contact(self, contact):\n",
        "    self.contacts.append(contact)\n",
        "    self.save_to_file()\n",
        "    print(f'{contact.name} {contact.surname} has been added.')\n",
        "\n",
        "  def remove_contact(self, contact_to_remove):\n",
        "      for contact in self.contacts:\n",
        "          if contact.id == contact_to_remove.id:\n",
        "              self.contacts.remove(contact)\n",
        "              # saving\n",
        "              self.save_to_file()\n",
        "              print(f\"Contact {contact.name} {contact.surname} removed.\")\n",
        "              return\n",
        "      print(\"Contact not found.\")\n",
        "\n",
        "  def search_contact(self, name, surname):\n",
        "    for contact in self.contacts:\n",
        "      if contact.name.lower() == name.lower() and contact.surname.lower() == surname.lower():\n",
        "        return contact\n",
        "\n",
        "  def show_all_contacts(self):\n",
        "      for contact in self.contacts:\n",
        "          print(f\"{contact.name} {contact.surname} | Tel: {contact.phone}\")\n",
        "\n",
        "  def save_to_file(self, filename=\"contacts_book.json\"):\n",
        "      try:\n",
        "        with open(filename, \"w\") as f:\n",
        "          # Convert each Contact object to a dictionary\n",
        "          data = [vars(c) for c in self.contacts]\n",
        "            # Save the list of contacts as JSON with indentation\n",
        "          json.dump(data, f, indent=2)\n",
        "      except JSONDecodeError as e:\n",
        "          print(f'Error: Failed to encode contacts to JSON. Details: {e}')\n",
        "      except Exception as e:\n",
        "          print(f'Unexpected error while saving contacts: {e}')\n",
        "\n",
        "  def load_from_file(self, filename=\"contacts_book.json\"):\n",
        "      try:\n",
        "        with open(filename, \"r\") as file:\n",
        "          # Load list of dictionaries from JSON\n",
        "          data = json.load(file)\n",
        "          # Recreate Contact objects from dictionaries (that's why I'm using **c)\n",
        "          self.contacts = [Contact(**c) for c in data]\n",
        "      except FileNotFoundError:\n",
        "          print(f'Warning: File \"{filename}\" not found. Starting with an empty contact list.')\n",
        "          self.contacts = []\n",
        "      except JSONDecodeError as e:\n",
        "          print(f'Warning: File contains invalid JSON. Details: {e}')\n",
        "          self.contacts = []\n",
        "      except Exception as e:\n",
        "          print(f'Unexpected error while loading contacts: {e}')\n",
        "          self.contacts = []\n",
        "\n",
        "class Contact:\n",
        "    def __init__(self, name, surname, phone_number):\n",
        "        self.id = str(uuid.uuid4())\n",
        "        self.name = name\n",
        "        self.surname = surname\n",
        "        self.phone = phone_number\n",
        "\n",
        "\n",
        "\n"
      ],
      "metadata": {
        "id": "0pvjtNopeoMh"
      },
      "execution_count": null,
      "outputs": []
    },
    {
      "cell_type": "code",
      "source": [
        "help(list.remove)"
      ],
      "metadata": {
        "colab": {
          "base_uri": "https://localhost:8080/"
        },
        "id": "VmmizG4Q4QfO",
        "outputId": "49022090-65a9-416e-948a-68cc6e7b4f6b"
      },
      "execution_count": null,
      "outputs": [
        {
          "output_type": "stream",
          "name": "stdout",
          "text": [
            "Help on method_descriptor:\n",
            "\n",
            "remove(self, value, /) unbound builtins.list method\n",
            "    Remove first occurrence of value.\n",
            "    \n",
            "    Raises ValueError if the value is not present.\n",
            "\n"
          ]
        }
      ]
    },
    {
      "cell_type": "code",
      "source": [],
      "metadata": {
        "id": "4eDKNDah6WhQ"
      },
      "execution_count": null,
      "outputs": []
    }
  ]
}