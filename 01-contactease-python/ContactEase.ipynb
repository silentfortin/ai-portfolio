{
  "nbformat": 4,
  "nbformat_minor": 0,
  "metadata": {
    "colab": {
      "provenance": [],
      "authorship_tag": "ABX9TyNMn8GhI28JVZMAWgLDZ+w/",
      "include_colab_link": true
    },
    "kernelspec": {
      "name": "python3",
      "display_name": "Python 3"
    },
    "language_info": {
      "name": "python"
    }
  },
  "cells": [
    {
      "cell_type": "markdown",
      "metadata": {
        "id": "view-in-github",
        "colab_type": "text"
      },
      "source": [
        "<a href=\"https://colab.research.google.com/github/silentfortin/ai-portfolio/blob/main/01-contactease-python/ContactEase.ipynb\" target=\"_parent\"><img src=\"https://colab.research.google.com/assets/colab-badge.svg\" alt=\"Open In Colab\"/></a>"
      ]
    },
    {
      "cell_type": "markdown",
      "source": [],
      "metadata": {
        "id": "nF-dwHvmecsZ"
      }
    },
    {
      "cell_type": "markdown",
      "source": [
        "ContactEase – Contact Manager in Python\n",
        "👨‍💻 Project developed during the AI Engineering Master – Week 1\n",
        "\n",
        "🔗 GitHub Repo: [ai-portfolio](https://github.com/silentfortin/ai-portfolio/)\n"
      ],
      "metadata": {
        "id": "qdjjjO2wed3Q"
      }
    },
    {
      "cell_type": "code",
      "source": [
        "import uuid\n",
        "import json\n",
        "\n",
        "from json.decoder import JSONDecodeError"
      ],
      "metadata": {
        "id": "fo2rJF82-xbR"
      },
      "execution_count": 3,
      "outputs": []
    },
    {
      "cell_type": "code",
      "source": [
        "# Class representing a User with name and surname\n",
        "class User:\n",
        "  # Constructor to initialize name and surname\n",
        "  def __init__(self, name, surname):\n",
        "    self.name = name\n",
        "    self.surname = surname\n",
        "\n",
        "class Contact:\n",
        "    def __init__(self, name, surname, phone_number):\n",
        "        self.id = str(uuid.uuid4())\n",
        "        self.name = name\n",
        "        self.surname = surname\n",
        "        self.phone = phone_number\n",
        "\n",
        "class ContactsBook:\n",
        "\n",
        "  def __init__(self):\n",
        "    self.contacts = []\n",
        "\n",
        "  def add_contact(self, contact):\n",
        "    self.contacts.append(contact)\n",
        "    self.save_to_file()\n",
        "    print(f'{contact.name} {contact.surname} has been added.')\n",
        "\n",
        "  def remove_contact(self, contact_to_remove):\n",
        "      for contact in self.contacts:\n",
        "          if contact.id == contact_to_remove.id:\n",
        "              self.contacts.remove(contact)\n",
        "              # saving\n",
        "              self.save_to_file()\n",
        "              print(f\"Contact {contact.name} {contact.surname} removed.\")\n",
        "              return\n",
        "      print(\"Contact not found.\")\n",
        "\n",
        "  \"\"\"\n",
        "  User will insert 'mod' which is the element that wants to modify and then\n",
        "  the new value 'updated_var'. When the case match, the var is modified and\n",
        "  the file pudated\n",
        "  \"\"\"\n",
        "  def modify_contact(self, contact, mod, updated_var):\n",
        "      match mod:\n",
        "        case 'name':\n",
        "          contact.name = updated_var\n",
        "        case 'surname':\n",
        "          contact.surname = updated_var\n",
        "        case 'phone_num':\n",
        "          contact.phone = updated_var\n",
        "        case _:\n",
        "            print(f\"Field '{field}' is not valid. Allowed: name, surname, phone.\")\n",
        "            return\n",
        "\n",
        "      self.save_to_file()\n",
        "\n",
        "  def search_contact(self, name, surname):\n",
        "    for contact in self.contacts:\n",
        "      if contact.name.lower() == name.lower() and contact.surname.lower() == surname.lower():\n",
        "        return contact\n",
        "\n",
        "  def show_all_contacts(self):\n",
        "      for contact in self.contacts:\n",
        "          print(f\"{contact.name} {contact.surname} | Tel: {contact.phone}\")\n",
        "\n",
        "  def save_to_file(self, filename=\"contacts_book.json\"):\n",
        "      try:\n",
        "        with open(filename, \"w\") as f:\n",
        "          # Convert each Contact object to a dictionary\n",
        "          data = [vars(c) for c in self.contacts]\n",
        "            # Save the list of contacts as JSON with indentation\n",
        "          json.dump(data, f, indent=2)\n",
        "      except JSONDecodeError as e:\n",
        "          print(f'Error: Failed to encode contacts to JSON. Details: {e}')\n",
        "      except Exception as e:\n",
        "          print(f'Unexpected error while saving contacts: {e}')\n",
        "\n",
        "  def load_from_file(self, filename=\"contacts_book.json\"):\n",
        "      try:\n",
        "        with open(filename, \"r\") as file:\n",
        "          # Load list of dictionaries from JSON\n",
        "          data = json.load(file)\n",
        "          # Recreate Contact objects from dictionaries (that's why I'm using **c)\n",
        "          self.contacts = [Contact(**c) for c in data]\n",
        "      except FileNotFoundError:\n",
        "          print(f'Warning: File \"{filename}\" not found. Starting with an empty contact list.')\n",
        "          self.contacts = []\n",
        "      except JSONDecodeError as e:\n",
        "          print(f'Warning: File contains invalid JSON. Details: {e}')\n",
        "          self.contacts = []\n",
        "      except Exception as e:\n",
        "          print(f'Unexpected error while loading contacts: {e}')\n",
        "          self.contacts = []\n"
      ],
      "metadata": {
        "id": "0pvjtNopeoMh"
      },
      "execution_count": null,
      "outputs": []
    },
    {
      "cell_type": "code",
      "source": [
        "help(json.load)"
      ],
      "metadata": {
        "colab": {
          "base_uri": "https://localhost:8080/"
        },
        "id": "VmmizG4Q4QfO",
        "outputId": "7746b9e6-f6ff-4542-8415-1afa8b722a3c"
      },
      "execution_count": 4,
      "outputs": [
        {
          "output_type": "stream",
          "name": "stdout",
          "text": [
            "Help on function load in module json:\n",
            "\n",
            "load(fp, *, cls=None, object_hook=None, parse_float=None, parse_int=None, parse_constant=None, object_pairs_hook=None, **kw)\n",
            "    Deserialize ``fp`` (a ``.read()``-supporting file-like object containing\n",
            "    a JSON document) to a Python object.\n",
            "    \n",
            "    ``object_hook`` is an optional function that will be called with the\n",
            "    result of any object literal decode (a ``dict``). The return value of\n",
            "    ``object_hook`` will be used instead of the ``dict``. This feature\n",
            "    can be used to implement custom decoders (e.g. JSON-RPC class hinting).\n",
            "    \n",
            "    ``object_pairs_hook`` is an optional function that will be called with the\n",
            "    result of any object literal decoded with an ordered list of pairs.  The\n",
            "    return value of ``object_pairs_hook`` will be used instead of the ``dict``.\n",
            "    This feature can be used to implement custom decoders.  If ``object_hook``\n",
            "    is also defined, the ``object_pairs_hook`` takes priority.\n",
            "    \n",
            "    To use a custom ``JSONDecoder`` subclass, specify it with the ``cls``\n",
            "    kwarg; otherwise ``JSONDecoder`` is used.\n",
            "\n"
          ]
        }
      ]
    }
  ]
}